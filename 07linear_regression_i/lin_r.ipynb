{
 "cells": [
  {
   "cell_type": "markdown",
   "metadata": {},
   "source": [
    "# Linear Regression"
   ]
  },
  {
   "cell_type": "code",
   "execution_count": 42,
   "metadata": {},
   "outputs": [],
   "source": [
    "\"\"\"\n",
    "jupyter nbconvert --to markdown lin_r.ipynb --output README.md\n",
    "\"\"\"\n",
    "import numpy as np\n",
    "import pandas as pd\n"
   ]
  },
  {
   "cell_type": "markdown",
   "metadata": {},
   "source": [
    "## DataSet"
   ]
  },
  {
   "cell_type": "markdown",
   "metadata": {},
   "source": [
    "[Weight-Height](https://www.kaggle.com/sonalisingh1411/linear-regression-using-weight-height/data)"
   ]
  },
  {
   "cell_type": "code",
   "execution_count": 124,
   "metadata": {},
   "outputs": [
    {
     "data": {
      "text/html": [
       "<div>\n",
       "<style scoped>\n",
       "    .dataframe tbody tr th:only-of-type {\n",
       "        vertical-align: middle;\n",
       "    }\n",
       "\n",
       "    .dataframe tbody tr th {\n",
       "        vertical-align: top;\n",
       "    }\n",
       "\n",
       "    .dataframe thead th {\n",
       "        text-align: right;\n",
       "    }\n",
       "</style>\n",
       "<table border=\"1\" class=\"dataframe\">\n",
       "  <thead>\n",
       "    <tr style=\"text-align: right;\">\n",
       "      <th></th>\n",
       "      <th>Gender</th>\n",
       "      <th>Height</th>\n",
       "      <th>Weight</th>\n",
       "    </tr>\n",
       "  </thead>\n",
       "  <tbody>\n",
       "    <tr>\n",
       "      <th>0</th>\n",
       "      <td>Male</td>\n",
       "      <td>73.847017</td>\n",
       "      <td>241.893563</td>\n",
       "    </tr>\n",
       "    <tr>\n",
       "      <th>1</th>\n",
       "      <td>Male</td>\n",
       "      <td>68.781904</td>\n",
       "      <td>162.310473</td>\n",
       "    </tr>\n",
       "    <tr>\n",
       "      <th>2</th>\n",
       "      <td>Male</td>\n",
       "      <td>74.110105</td>\n",
       "      <td>212.740856</td>\n",
       "    </tr>\n",
       "    <tr>\n",
       "      <th>3</th>\n",
       "      <td>Male</td>\n",
       "      <td>71.730978</td>\n",
       "      <td>220.042470</td>\n",
       "    </tr>\n",
       "    <tr>\n",
       "      <th>4</th>\n",
       "      <td>Male</td>\n",
       "      <td>69.881796</td>\n",
       "      <td>206.349801</td>\n",
       "    </tr>\n",
       "    <tr>\n",
       "      <th>...</th>\n",
       "      <td>...</td>\n",
       "      <td>...</td>\n",
       "      <td>...</td>\n",
       "    </tr>\n",
       "    <tr>\n",
       "      <th>9995</th>\n",
       "      <td>Female</td>\n",
       "      <td>66.172652</td>\n",
       "      <td>136.777454</td>\n",
       "    </tr>\n",
       "    <tr>\n",
       "      <th>9996</th>\n",
       "      <td>Female</td>\n",
       "      <td>67.067155</td>\n",
       "      <td>170.867906</td>\n",
       "    </tr>\n",
       "    <tr>\n",
       "      <th>9997</th>\n",
       "      <td>Female</td>\n",
       "      <td>63.867992</td>\n",
       "      <td>128.475319</td>\n",
       "    </tr>\n",
       "    <tr>\n",
       "      <th>9998</th>\n",
       "      <td>Female</td>\n",
       "      <td>69.034243</td>\n",
       "      <td>163.852461</td>\n",
       "    </tr>\n",
       "    <tr>\n",
       "      <th>9999</th>\n",
       "      <td>Female</td>\n",
       "      <td>61.944246</td>\n",
       "      <td>113.649103</td>\n",
       "    </tr>\n",
       "  </tbody>\n",
       "</table>\n",
       "<p>10000 rows × 3 columns</p>\n",
       "</div>"
      ],
      "text/plain": [
       "      Gender     Height      Weight\n",
       "0       Male  73.847017  241.893563\n",
       "1       Male  68.781904  162.310473\n",
       "2       Male  74.110105  212.740856\n",
       "3       Male  71.730978  220.042470\n",
       "4       Male  69.881796  206.349801\n",
       "...      ...        ...         ...\n",
       "9995  Female  66.172652  136.777454\n",
       "9996  Female  67.067155  170.867906\n",
       "9997  Female  63.867992  128.475319\n",
       "9998  Female  69.034243  163.852461\n",
       "9999  Female  61.944246  113.649103\n",
       "\n",
       "[10000 rows x 3 columns]"
      ]
     },
     "execution_count": 124,
     "metadata": {},
     "output_type": "execute_result"
    }
   ],
   "source": [
    "df = pd.read_csv('weight-height.csv')\n",
    "df\n"
   ]
  },
  {
   "cell_type": "markdown",
   "metadata": {},
   "source": [
    "## Generating our Own data"
   ]
  },
  {
   "cell_type": "markdown",
   "metadata": {},
   "source": [
    "For linear relationship : `y=βx+ϵ`"
   ]
  },
  {
   "cell_type": "code",
   "execution_count": 49,
   "metadata": {},
   "outputs": [
    {
     "name": "stdout",
     "output_type": "stream",
     "text": [
      "\u001b[1;31mDocstring:\u001b[0m\n",
      "normal(loc=0.0, scale=1.0, size=None)\n",
      "\n",
      "Draw random samples from a normal (Gaussian) distribution.\n",
      "\n",
      "The probability density function of the normal distribution, first\n",
      "derived by De Moivre and 200 years later by both Gauss and Laplace\n",
      "independently [2]_, is often called the bell curve because of\n",
      "its characteristic shape (see the example below).\n",
      "\n",
      "The normal distributions occurs often in nature.  For example, it\n",
      "describes the commonly occurring distribution of samples influenced\n",
      "by a large number of tiny, random disturbances, each with its own\n",
      "unique distribution [2]_.\n",
      "\n",
      ".. note::\n",
      "    New code should use the ``normal`` method of a ``default_rng()``\n",
      "    instance instead; please see the :ref:`random-quick-start`.\n",
      "\n",
      "Parameters\n",
      "----------\n",
      "loc : float or array_like of floats\n",
      "    Mean (\"centre\") of the distribution.\n",
      "scale : float or array_like of floats\n",
      "    Standard deviation (spread or \"width\") of the distribution. Must be\n",
      "    non-negative.\n",
      "size : int or tuple of ints, optional\n",
      "    Output shape.  If the given shape is, e.g., ``(m, n, k)``, then\n",
      "    ``m * n * k`` samples are drawn.  If size is ``None`` (default),\n",
      "    a single value is returned if ``loc`` and ``scale`` are both scalars.\n",
      "    Otherwise, ``np.broadcast(loc, scale).size`` samples are drawn.\n",
      "\n",
      "Returns\n",
      "-------\n",
      "out : ndarray or scalar\n",
      "    Drawn samples from the parameterized normal distribution.\n",
      "\n",
      "See Also\n",
      "--------\n",
      "scipy.stats.norm : probability density function, distribution or\n",
      "    cumulative density function, etc.\n",
      "Generator.normal: which should be used for new code.\n",
      "\n",
      "Notes\n",
      "-----\n",
      "The probability density for the Gaussian distribution is\n",
      "\n",
      ".. math:: p(x) = \\frac{1}{\\sqrt{ 2 \\pi \\sigma^2 }}\n",
      "                 e^{ - \\frac{ (x - \\mu)^2 } {2 \\sigma^2} },\n",
      "\n",
      "where :math:`\\mu` is the mean and :math:`\\sigma` the standard\n",
      "deviation. The square of the standard deviation, :math:`\\sigma^2`,\n",
      "is called the variance.\n",
      "\n",
      "The function has its peak at the mean, and its \"spread\" increases with\n",
      "the standard deviation (the function reaches 0.607 times its maximum at\n",
      ":math:`x + \\sigma` and :math:`x - \\sigma` [2]_).  This implies that\n",
      "normal is more likely to return samples lying close to the mean, rather\n",
      "than those far away.\n",
      "\n",
      "References\n",
      "----------\n",
      ".. [1] Wikipedia, \"Normal distribution\",\n",
      "       https://en.wikipedia.org/wiki/Normal_distribution\n",
      ".. [2] P. R. Peebles Jr., \"Central Limit Theorem\" in \"Probability,\n",
      "       Random Variables and Random Signal Principles\", 4th ed., 2001,\n",
      "       pp. 51, 51, 125.\n",
      "\n",
      "Examples\n",
      "--------\n",
      "Draw samples from the distribution:\n",
      "\n",
      ">>> mu, sigma = 0, 0.1 # mean and standard deviation\n",
      ">>> s = np.random.normal(mu, sigma, 1000)\n",
      "\n",
      "Verify the mean and the variance:\n",
      "\n",
      ">>> abs(mu - np.mean(s))\n",
      "0.0  # may vary\n",
      "\n",
      ">>> abs(sigma - np.std(s, ddof=1))\n",
      "0.1  # may vary\n",
      "\n",
      "Display the histogram of the samples, along with\n",
      "the probability density function:\n",
      "\n",
      ">>> import matplotlib.pyplot as plt\n",
      ">>> count, bins, ignored = plt.hist(s, 30, density=True)\n",
      ">>> plt.plot(bins, 1/(sigma * np.sqrt(2 * np.pi)) *\n",
      "...                np.exp( - (bins - mu)**2 / (2 * sigma**2) ),\n",
      "...          linewidth=2, color='r')\n",
      ">>> plt.show()\n",
      "\n",
      "Two-by-four array of samples from N(3, 6.25):\n",
      "\n",
      ">>> np.random.normal(3, 2.5, size=(2, 4))\n",
      "array([[-4.49401501,  4.00950034, -1.81814867,  7.29718677],   # random\n",
      "       [ 0.39924804,  4.68456316,  4.99394529,  4.84057254]])  # random\n",
      "\u001b[1;31mType:\u001b[0m      builtin_function_or_method\n"
     ]
    }
   ],
   "source": [
    "np.random.normal?"
   ]
  },
  {
   "cell_type": "code",
   "execution_count": 79,
   "metadata": {},
   "outputs": [
    {
     "data": {
      "text/plain": [
       "array([12.66721241, 11.62345271, 12.46110036,  5.82999501, 11.22076022,\n",
       "        6.94297689,  8.97012702, 10.88323543, 10.19553819,  8.92121895,\n",
       "       10.94469877, 10.94680331, 12.67005676,  7.7555354 , 10.17803053,\n",
       "       10.92607161, 10.31153695, 12.41214961, 10.58441622, 14.2965958 ,\n",
       "       11.15329742,  8.07174661, 10.45349604, 13.66746546, 11.02359766,\n",
       "        6.69701059,  6.64672214, 11.96548882, 13.00156791,  9.77528143,\n",
       "        8.48051611,  9.47632562, 10.45727306,  9.49939793,  9.23977198,\n",
       "       13.7340312 , 10.21142769, 11.96521351, 10.17735914, 10.1700133 ,\n",
       "       11.31789284, 10.2313618 ,  9.13792624,  8.35729555,  7.69372331,\n",
       "       10.49074144,  9.79714834, 12.7159697 ,  8.29924309, 11.26567017,\n",
       "       11.64348039,  7.98545788,  9.462819  , 11.02805185,  7.10210677,\n",
       "       10.78524151,  9.67167163,  6.443244  , 10.31915081,  9.92232538,\n",
       "        9.0478629 ,  8.80796528,  9.99033003, 11.69590683,  9.91755777,\n",
       "        7.64886517,  9.6758827 , 12.14662353,  9.10903232, 10.99133395,\n",
       "       13.62978485, 11.08472981,  9.36964522, 10.9253554 ,  9.29632912,\n",
       "        5.0684471 ,  9.72043439, 10.377523  ,  8.85753654,  6.10375317,\n",
       "       12.401342  , 11.34904435,  9.26310258,  8.5947326 ,  8.89208322,\n",
       "        8.76818787, 10.85729774, 11.81379875, 11.26404236,  9.60427506,\n",
       "        9.9312459 , 10.33172047,  9.69455907,  8.74740479, 10.20858234,\n",
       "        8.20216244,  9.13110021, 11.40551387,  9.5043439 ,  8.78482374])"
      ]
     },
     "execution_count": 79,
     "metadata": {},
     "output_type": "execute_result"
    }
   ],
   "source": [
    "std = np.random.normal(loc=10, scale=2, size=(100,))\n",
    "std\n",
    "# start from 10, scale factor 2, 100 samples"
   ]
  },
  {
   "cell_type": "code",
   "execution_count": 97,
   "metadata": {},
   "outputs": [
    {
     "data": {
      "text/plain": [
       "array([-0.08081075,  0.35412833, -0.59848323, -1.1046193 , -1.30302881,\n",
       "       -1.07688227,  1.62269094, -0.52870761,  1.87681077, -1.49679116,\n",
       "        0.92964647, -1.16286343,  0.85968225,  0.96031114, -1.44128916,\n",
       "        1.76348083,  0.04501484,  0.43780959,  1.02776004,  0.05152385,\n",
       "        0.5637066 ,  0.82487528, -0.8270986 , -0.41029055, -0.943235  ,\n",
       "        0.16887113, -2.91326595,  0.27176334,  2.45139859, -0.68347263,\n",
       "        2.66706514,  0.6654943 , -0.65318971, -0.57802598, -1.81142211,\n",
       "       -0.33580496, -0.14320422, -0.29176043, -0.13365205,  0.97008864,\n",
       "        0.07171166,  0.46427582, -0.25031636,  0.6488203 ,  1.29902815,\n",
       "       -0.8764212 ,  0.65150035,  1.16661832,  1.69056275,  0.10909808,\n",
       "        0.82441406, -0.61442329, -0.5344848 ,  0.60441955, -2.01898193,\n",
       "        1.12592127,  0.32847319,  2.78673977,  0.62135014,  0.31794686,\n",
       "        0.80253388,  1.51813088,  0.16198424,  1.26234114,  0.03517811,\n",
       "        0.3799533 , -1.08697823,  2.10835911, -0.38462113, -0.08942365,\n",
       "       -0.43521875, -0.04645719,  0.47478842, -0.7435647 , -1.32186494,\n",
       "        0.85920857,  0.13362885, -1.0828271 ,  1.04710227,  1.35015443,\n",
       "        0.42340111, -0.98362656, -1.43706316, -0.06464864,  0.81465534,\n",
       "        0.51924538,  1.79689484,  1.8779783 ,  1.1352544 , -0.45217909,\n",
       "       -0.81497125,  0.42632392, -1.36202784,  0.21010419, -0.58569846,\n",
       "       -1.50519296, -0.36139848,  0.59434338, -0.10661617, -0.04508037])"
      ]
     },
     "execution_count": 97,
     "metadata": {},
     "output_type": "execute_result"
    }
   ],
   "source": [
    "e = np.random.randn(100)\n",
    "e\n"
   ]
  },
  {
   "cell_type": "code",
   "execution_count": 118,
   "metadata": {},
   "outputs": [
    {
     "data": {
      "text/plain": [
       "array([14, 12,  2, 12, 16, 13, 12, 13,  2, 11, 10, 13,  3, 15,  8,  2, 11,\n",
       "        4, 19, 19,  7,  5, 16, 12, 14, 19, 15, 13, 16, 18, 16,  6, 15,  6,\n",
       "       19, 16, 14,  5,  6, 10,  2,  2,  5,  2,  8, 11, 13,  2,  3, 11, 19,\n",
       "       18, 19,  7,  4,  9,  3,  2,  9, 13, 12,  7,  3, 11, 12, 10, 15, 14,\n",
       "        9,  4,  6, 10,  8,  9,  4,  3, 10, 13,  6,  5, 13, 15,  8, 17,  6,\n",
       "        6, 15,  5,  6,  4,  9,  8,  2,  7, 19,  5, 14,  6, 15, 11])"
      ]
     },
     "execution_count": 118,
     "metadata": {},
     "output_type": "execute_result"
    }
   ],
   "source": [
    "x = np.random.randint(2,20,size=(100,))\n",
    "x"
   ]
  },
  {
   "cell_type": "code",
   "execution_count": 119,
   "metadata": {},
   "outputs": [
    {
     "data": {
      "text/plain": [
       "array([27.91918925, 24.35412833,  3.40151677, 22.8953807 , 30.69697119,\n",
       "       24.92311773, 25.62269094, 25.47129239,  5.87681077, 20.50320884,\n",
       "       20.92964647, 24.83713657,  6.85968225, 30.96031114, 14.55871084,\n",
       "        5.76348083, 22.04501484,  8.43780959, 39.02776004, 38.05152385,\n",
       "       14.5637066 , 10.82487528, 31.1729014 , 23.58970945, 27.056765  ,\n",
       "       38.16887113, 27.08673405, 26.27176334, 34.45139859, 35.31652737,\n",
       "       34.66706514, 12.6654943 , 29.34681029, 11.42197402, 36.18857789,\n",
       "       31.66419504, 27.85679578,  9.70823957, 11.86634795, 20.97008864,\n",
       "        4.07171166,  4.46427582,  9.74968364,  4.6488203 , 17.29902815,\n",
       "       21.1235788 , 26.65150035,  5.16661832,  7.69056275, 22.10909808,\n",
       "       38.82441406, 35.38557671, 37.4655152 , 14.60441955,  5.98101807,\n",
       "       19.12592127,  6.32847319,  6.78673977, 18.62135014, 26.31794686,\n",
       "       24.80253388, 15.51813088,  6.16198424, 23.26234114, 24.03517811,\n",
       "       20.3799533 , 28.91302177, 30.10835911, 17.61537887,  7.91057635,\n",
       "       11.56478125, 19.95354281, 16.47478842, 17.2564353 ,  6.67813506,\n",
       "        6.85920857, 20.13362885, 24.9171729 , 13.04710227, 11.35015443,\n",
       "       26.42340111, 29.01637344, 14.56293684, 33.93535136, 12.81465534,\n",
       "       12.51924538, 31.79689484, 11.8779783 , 13.1352544 ,  7.54782091,\n",
       "       17.18502875, 16.42632392,  2.63797216, 14.21010419, 37.41430154,\n",
       "        8.49480704, 27.63860152, 12.59434338, 29.89338383, 21.95491963])"
      ]
     },
     "execution_count": 119,
     "metadata": {},
     "output_type": "execute_result"
    }
   ],
   "source": [
    "y = x * 2 + e\n",
    "y"
   ]
  },
  {
   "cell_type": "code",
   "execution_count": 120,
   "metadata": {},
   "outputs": [
    {
     "data": {
      "text/html": [
       "<div>\n",
       "<style scoped>\n",
       "    .dataframe tbody tr th:only-of-type {\n",
       "        vertical-align: middle;\n",
       "    }\n",
       "\n",
       "    .dataframe tbody tr th {\n",
       "        vertical-align: top;\n",
       "    }\n",
       "\n",
       "    .dataframe thead th {\n",
       "        text-align: right;\n",
       "    }\n",
       "</style>\n",
       "<table border=\"1\" class=\"dataframe\">\n",
       "  <thead>\n",
       "    <tr style=\"text-align: right;\">\n",
       "      <th></th>\n",
       "      <th>time_spent</th>\n",
       "      <th>performance</th>\n",
       "    </tr>\n",
       "  </thead>\n",
       "  <tbody>\n",
       "    <tr>\n",
       "      <th>0</th>\n",
       "      <td>14</td>\n",
       "      <td>27.919189</td>\n",
       "    </tr>\n",
       "    <tr>\n",
       "      <th>1</th>\n",
       "      <td>12</td>\n",
       "      <td>24.354128</td>\n",
       "    </tr>\n",
       "    <tr>\n",
       "      <th>2</th>\n",
       "      <td>2</td>\n",
       "      <td>3.401517</td>\n",
       "    </tr>\n",
       "    <tr>\n",
       "      <th>3</th>\n",
       "      <td>12</td>\n",
       "      <td>22.895381</td>\n",
       "    </tr>\n",
       "    <tr>\n",
       "      <th>4</th>\n",
       "      <td>16</td>\n",
       "      <td>30.696971</td>\n",
       "    </tr>\n",
       "    <tr>\n",
       "      <th>...</th>\n",
       "      <td>...</td>\n",
       "      <td>...</td>\n",
       "    </tr>\n",
       "    <tr>\n",
       "      <th>95</th>\n",
       "      <td>5</td>\n",
       "      <td>8.494807</td>\n",
       "    </tr>\n",
       "    <tr>\n",
       "      <th>96</th>\n",
       "      <td>14</td>\n",
       "      <td>27.638602</td>\n",
       "    </tr>\n",
       "    <tr>\n",
       "      <th>97</th>\n",
       "      <td>6</td>\n",
       "      <td>12.594343</td>\n",
       "    </tr>\n",
       "    <tr>\n",
       "      <th>98</th>\n",
       "      <td>15</td>\n",
       "      <td>29.893384</td>\n",
       "    </tr>\n",
       "    <tr>\n",
       "      <th>99</th>\n",
       "      <td>11</td>\n",
       "      <td>21.954920</td>\n",
       "    </tr>\n",
       "  </tbody>\n",
       "</table>\n",
       "<p>100 rows × 2 columns</p>\n",
       "</div>"
      ],
      "text/plain": [
       "    time_spent  performance\n",
       "0           14    27.919189\n",
       "1           12    24.354128\n",
       "2            2     3.401517\n",
       "3           12    22.895381\n",
       "4           16    30.696971\n",
       "..         ...          ...\n",
       "95           5     8.494807\n",
       "96          14    27.638602\n",
       "97           6    12.594343\n",
       "98          15    29.893384\n",
       "99          11    21.954920\n",
       "\n",
       "[100 rows x 2 columns]"
      ]
     },
     "execution_count": 120,
     "metadata": {},
     "output_type": "execute_result"
    }
   ],
   "source": [
    "df = pd.DataFrame({'time_spent': x, 'performance': y})\n",
    "df"
   ]
  },
  {
   "cell_type": "code",
   "execution_count": 115,
   "metadata": {},
   "outputs": [
    {
     "data": {
      "text/plain": [
       "array([ 0., -1., -2.,  0., -1.,  0.,  1.,  0., -2., -1.,  0.,  0., -2.,\n",
       "       -1., -1., -2.,  0., -1.,  0., -1., -1.,  1.,  0.,  1., -1.,  0.,\n",
       "        0.,  0., -2., -2.,  0., -2., -1., -1.,  0., -2.,  0.,  0.,  0.,\n",
       "       -1.,  0., -3., -1., -1., -1.,  0.,  1.,  0.,  0.,  0., -1.,  0.,\n",
       "       -1.,  1.,  1., -2., -2., -1., -1., -1.,  1.,  1., -2., -1., -1.,\n",
       "       -1., -1.,  0.,  0., -1., -3., -2.,  1., -1., -2.,  0., -2., -1.,\n",
       "       -1.,  0.,  0., -2.,  1., -1., -1.,  0.,  0., -1., -1.,  1., -2.,\n",
       "       -1.,  0., -2., -1.,  1.,  0.,  0.,  1., -1.])"
      ]
     },
     "execution_count": 115,
     "metadata": {},
     "output_type": "execute_result"
    }
   ],
   "source": [
    "randomNums = np.random.normal(scale=1, size=100)\n",
    "randomInts = np.floor(randomNums)\n",
    "randomInts\n"
   ]
  }
 ],
 "metadata": {
  "interpreter": {
   "hash": "8cdb09b0bc1c395d296938b19fe7764d972a7ceeffba4d3ad7ff6a3771581719"
  },
  "kernelspec": {
   "display_name": "Python 3.8.8 64-bit ('ProgramData': virtualenv)",
   "language": "python",
   "name": "python3"
  },
  "language_info": {
   "codemirror_mode": {
    "name": "ipython",
    "version": 3
   },
   "file_extension": ".py",
   "mimetype": "text/x-python",
   "name": "python",
   "nbconvert_exporter": "python",
   "pygments_lexer": "ipython3",
   "version": "3.8.8"
  },
  "orig_nbformat": 2
 },
 "nbformat": 4,
 "nbformat_minor": 2
}
