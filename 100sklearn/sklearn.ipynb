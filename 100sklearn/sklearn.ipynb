{
 "cells": [
  {
   "cell_type": "markdown",
   "metadata": {},
   "source": [
    "# Sklearn"
   ]
  },
  {
   "cell_type": "code",
   "execution_count": null,
   "metadata": {},
   "outputs": [],
   "source": [
    "\"\"\"\n",
    "cd .\\100sklearn\\\n",
    "jupyter nbconvert --to markdown sklearn.ipynb --output README.md\n",
    "\"\"\""
   ]
  },
  {
   "cell_type": "code",
   "execution_count": 2,
   "metadata": {},
   "outputs": [],
   "source": [
    "import pandas as pd\n",
    "import numpy as np\n",
    "import matplotlib.pyplot as plt\n",
    "import seaborn as sns\n",
    "\n",
    "from matplotlib_inline.backend_inline import set_matplotlib_formats\n",
    "set_matplotlib_formats('jpg')"
   ]
  },
  {
   "cell_type": "markdown",
   "metadata": {},
   "source": [
    "## Choosing the right Estimator\n"
   ]
  },
  {
   "cell_type": "markdown",
   "metadata": {},
   "source": [
    "- [https://scikit-learn.org/stable/tutorial/machine_learning_map/index.html](https://scikit-learn.org/stable/tutorial/machine_learning_map/index.html)\n",
    "\n",
    "<div align=\"center\">\n",
    "<img src=\"img/es.jpg\" alt=\"es.jpg\" width=\"900px\">\n",
    "</div>"
   ]
  },
  {
   "cell_type": "markdown",
   "metadata": {},
   "source": [
    "### Regression"
   ]
  },
  {
   "cell_type": "code",
   "execution_count": 12,
   "metadata": {},
   "outputs": [],
   "source": [
    "# from sklearn.datasets import load_boston\n",
    "# boston = load_boston()\n",
    "# boston_df = pd.DataFrame(boston.data, columns=boston.feature_names)\n",
    "# boston_df['target'] = boston.target\n",
    "# boston_df.head()\n",
    "# !FutureWarning: load_boston is deprecated; `load_boston` is deprecated in 1.0 and will be removed in 1.2."
   ]
  },
  {
   "cell_type": "code",
   "execution_count": 14,
   "metadata": {},
   "outputs": [
    {
     "data": {
      "text/html": [
       "<div>\n",
       "<style scoped>\n",
       "    .dataframe tbody tr th:only-of-type {\n",
       "        vertical-align: middle;\n",
       "    }\n",
       "\n",
       "    .dataframe tbody tr th {\n",
       "        vertical-align: top;\n",
       "    }\n",
       "\n",
       "    .dataframe thead th {\n",
       "        text-align: right;\n",
       "    }\n",
       "</style>\n",
       "<table border=\"1\" class=\"dataframe\">\n",
       "  <thead>\n",
       "    <tr style=\"text-align: right;\">\n",
       "      <th></th>\n",
       "      <th>crim</th>\n",
       "      <th>zn</th>\n",
       "      <th>indus</th>\n",
       "      <th>chas</th>\n",
       "      <th>nox</th>\n",
       "      <th>rm</th>\n",
       "      <th>age</th>\n",
       "      <th>dis</th>\n",
       "      <th>rad</th>\n",
       "      <th>tax</th>\n",
       "      <th>ptratio</th>\n",
       "      <th>black</th>\n",
       "      <th>lstat</th>\n",
       "      <th>medv</th>\n",
       "    </tr>\n",
       "  </thead>\n",
       "  <tbody>\n",
       "    <tr>\n",
       "      <th>1</th>\n",
       "      <td>0.00632</td>\n",
       "      <td>18.0</td>\n",
       "      <td>2.31</td>\n",
       "      <td>0</td>\n",
       "      <td>0.538</td>\n",
       "      <td>6.575</td>\n",
       "      <td>65.2</td>\n",
       "      <td>4.0900</td>\n",
       "      <td>1</td>\n",
       "      <td>296</td>\n",
       "      <td>15.3</td>\n",
       "      <td>396.90</td>\n",
       "      <td>4.98</td>\n",
       "      <td>24.0</td>\n",
       "    </tr>\n",
       "    <tr>\n",
       "      <th>2</th>\n",
       "      <td>0.02731</td>\n",
       "      <td>0.0</td>\n",
       "      <td>7.07</td>\n",
       "      <td>0</td>\n",
       "      <td>0.469</td>\n",
       "      <td>6.421</td>\n",
       "      <td>78.9</td>\n",
       "      <td>4.9671</td>\n",
       "      <td>2</td>\n",
       "      <td>242</td>\n",
       "      <td>17.8</td>\n",
       "      <td>396.90</td>\n",
       "      <td>9.14</td>\n",
       "      <td>21.6</td>\n",
       "    </tr>\n",
       "    <tr>\n",
       "      <th>3</th>\n",
       "      <td>0.02729</td>\n",
       "      <td>0.0</td>\n",
       "      <td>7.07</td>\n",
       "      <td>0</td>\n",
       "      <td>0.469</td>\n",
       "      <td>7.185</td>\n",
       "      <td>61.1</td>\n",
       "      <td>4.9671</td>\n",
       "      <td>2</td>\n",
       "      <td>242</td>\n",
       "      <td>17.8</td>\n",
       "      <td>392.83</td>\n",
       "      <td>4.03</td>\n",
       "      <td>34.7</td>\n",
       "    </tr>\n",
       "    <tr>\n",
       "      <th>4</th>\n",
       "      <td>0.03237</td>\n",
       "      <td>0.0</td>\n",
       "      <td>2.18</td>\n",
       "      <td>0</td>\n",
       "      <td>0.458</td>\n",
       "      <td>6.998</td>\n",
       "      <td>45.8</td>\n",
       "      <td>6.0622</td>\n",
       "      <td>3</td>\n",
       "      <td>222</td>\n",
       "      <td>18.7</td>\n",
       "      <td>394.63</td>\n",
       "      <td>2.94</td>\n",
       "      <td>33.4</td>\n",
       "    </tr>\n",
       "    <tr>\n",
       "      <th>5</th>\n",
       "      <td>0.06905</td>\n",
       "      <td>0.0</td>\n",
       "      <td>2.18</td>\n",
       "      <td>0</td>\n",
       "      <td>0.458</td>\n",
       "      <td>7.147</td>\n",
       "      <td>54.2</td>\n",
       "      <td>6.0622</td>\n",
       "      <td>3</td>\n",
       "      <td>222</td>\n",
       "      <td>18.7</td>\n",
       "      <td>396.90</td>\n",
       "      <td>5.33</td>\n",
       "      <td>36.2</td>\n",
       "    </tr>\n",
       "  </tbody>\n",
       "</table>\n",
       "</div>"
      ],
      "text/plain": [
       "      crim    zn  indus  chas    nox     rm   age     dis  rad  tax  ptratio  \\\n",
       "1  0.00632  18.0   2.31     0  0.538  6.575  65.2  4.0900    1  296     15.3   \n",
       "2  0.02731   0.0   7.07     0  0.469  6.421  78.9  4.9671    2  242     17.8   \n",
       "3  0.02729   0.0   7.07     0  0.469  7.185  61.1  4.9671    2  242     17.8   \n",
       "4  0.03237   0.0   2.18     0  0.458  6.998  45.8  6.0622    3  222     18.7   \n",
       "5  0.06905   0.0   2.18     0  0.458  7.147  54.2  6.0622    3  222     18.7   \n",
       "\n",
       "    black  lstat  medv  \n",
       "1  396.90   4.98  24.0  \n",
       "2  396.90   9.14  21.6  \n",
       "3  392.83   4.03  34.7  \n",
       "4  394.63   2.94  33.4  \n",
       "5  396.90   5.33  36.2  "
      ]
     },
     "execution_count": 14,
     "metadata": {},
     "output_type": "execute_result"
    }
   ],
   "source": [
    "df = pd.read_csv(\"Boston.csv\",index_col=0)\n",
    "df.head()"
   ]
  },
  {
   "cell_type": "code",
   "execution_count": 23,
   "metadata": {},
   "outputs": [
    {
     "data": {
      "text/plain": [
       "(506, 14)"
      ]
     },
     "execution_count": 23,
     "metadata": {},
     "output_type": "execute_result"
    }
   ],
   "source": [
    "df.shape"
   ]
  },
  {
   "cell_type": "code",
   "execution_count": 20,
   "metadata": {},
   "outputs": [
    {
     "name": "stdout",
     "output_type": "stream",
     "text": [
      "(404, 13) (102, 13) (404,) (102,)\n"
     ]
    },
    {
     "data": {
      "text/plain": [
       "0.5796111714164921"
      ]
     },
     "execution_count": 20,
     "metadata": {},
     "output_type": "execute_result"
    }
   ],
   "source": [
    "from sklearn.model_selection import train_test_split\n",
    "# let's try the ridge regression model\n",
    "from sklearn.linear_model import Ridge\n",
    "# random seed for reproducibility\n",
    "np.random.seed(0)\n",
    "\n",
    "# create the data\n",
    "X = df.drop('medv', axis=1)\n",
    "y = df['medv']\n",
    "\n",
    "# split the data into train and test\n",
    "X_train, X_test, y_train, y_test = train_test_split(X, y, test_size=0.2, random_state=0)\n",
    "print(X_train.shape, X_test.shape, y_train.shape, y_test.shape)\n",
    "# instantiate the model\n",
    "model = Ridge()\n",
    "\n",
    "# fit the model (taring the machine learning model)\n",
    "model.fit(X_train, y_train)\n",
    "\n",
    "# check the score on the test set (use the patterns the model has learned)\n",
    "model.score(X_test, y_test)"
   ]
  },
  {
   "cell_type": "markdown",
   "metadata": {},
   "source": [
    " - How do we improve the model?\n",
    " - What if Ridge regression wasn't working?"
   ]
  },
  {
   "cell_type": "markdown",
   "metadata": {},
   "source": [
    "#### Ensemble methods"
   ]
  },
  {
   "cell_type": "markdown",
   "metadata": {},
   "source": [
    "The goal of ensemble methods is to combine the predictions of several base estimators built with a given learning algorithm in order to improve generalizability / robustness over a single estimator.\n",
    "\n",
    "- [https://scikit-learn.org/stable/modules/ensemble.html](https://scikit-learn.org/stable/modules/ensemble.html)"
   ]
  },
  {
   "cell_type": "code",
   "execution_count": 29,
   "metadata": {},
   "outputs": [
    {
     "name": "stdout",
     "output_type": "stream",
     "text": [
      "(404, 13) (102, 13) (404,) (102,)\n"
     ]
    },
    {
     "data": {
      "text/plain": [
       "0.7734908201180223"
      ]
     },
     "execution_count": 29,
     "metadata": {},
     "output_type": "execute_result"
    }
   ],
   "source": [
    "from sklearn.model_selection import train_test_split\n",
    "# let try the random forest regressor\n",
    "from sklearn.ensemble import RandomForestRegressor\n",
    "\n",
    "# seed the random number generator\n",
    "np.random.seed(0)\n",
    "\n",
    "# create the data\n",
    "X = df.drop('medv', axis=1)\n",
    "y = df['medv']\n",
    "\n",
    "# split the data into train and test\n",
    "X_train, X_test, y_train, y_test = train_test_split(X, y, test_size=0.2, random_state=0)\n",
    "print(X_train.shape, X_test.shape, y_train.shape, y_test.shape)\n",
    "\n",
    "# instantiate and fit the model\n",
    "model = RandomForestRegressor(n_estimators=100)\n",
    "model.fit(X_train, y_train)\n",
    "\n",
    "# check the score on the test set\n",
    "model.score(X_test, y_test)"
   ]
  },
  {
   "cell_type": "markdown",
   "metadata": {},
   "source": [
    "### Classification"
   ]
  },
  {
   "cell_type": "code",
   "execution_count": 35,
   "metadata": {},
   "outputs": [
    {
     "data": {
      "text/html": [
       "<div>\n",
       "<style scoped>\n",
       "    .dataframe tbody tr th:only-of-type {\n",
       "        vertical-align: middle;\n",
       "    }\n",
       "\n",
       "    .dataframe tbody tr th {\n",
       "        vertical-align: top;\n",
       "    }\n",
       "\n",
       "    .dataframe thead th {\n",
       "        text-align: right;\n",
       "    }\n",
       "</style>\n",
       "<table border=\"1\" class=\"dataframe\">\n",
       "  <thead>\n",
       "    <tr style=\"text-align: right;\">\n",
       "      <th></th>\n",
       "      <th>age</th>\n",
       "      <th>sex</th>\n",
       "      <th>cp</th>\n",
       "      <th>trestbps</th>\n",
       "      <th>chol</th>\n",
       "      <th>fbs</th>\n",
       "      <th>restecg</th>\n",
       "      <th>thalach</th>\n",
       "      <th>exang</th>\n",
       "      <th>oldpeak</th>\n",
       "      <th>slope</th>\n",
       "      <th>ca</th>\n",
       "      <th>thal</th>\n",
       "      <th>target</th>\n",
       "    </tr>\n",
       "  </thead>\n",
       "  <tbody>\n",
       "    <tr>\n",
       "      <th>0</th>\n",
       "      <td>63</td>\n",
       "      <td>1</td>\n",
       "      <td>3</td>\n",
       "      <td>145</td>\n",
       "      <td>233</td>\n",
       "      <td>1</td>\n",
       "      <td>0</td>\n",
       "      <td>150</td>\n",
       "      <td>0</td>\n",
       "      <td>2.3</td>\n",
       "      <td>0</td>\n",
       "      <td>0</td>\n",
       "      <td>1</td>\n",
       "      <td>1</td>\n",
       "    </tr>\n",
       "    <tr>\n",
       "      <th>1</th>\n",
       "      <td>37</td>\n",
       "      <td>1</td>\n",
       "      <td>2</td>\n",
       "      <td>130</td>\n",
       "      <td>250</td>\n",
       "      <td>0</td>\n",
       "      <td>1</td>\n",
       "      <td>187</td>\n",
       "      <td>0</td>\n",
       "      <td>3.5</td>\n",
       "      <td>0</td>\n",
       "      <td>0</td>\n",
       "      <td>2</td>\n",
       "      <td>1</td>\n",
       "    </tr>\n",
       "    <tr>\n",
       "      <th>2</th>\n",
       "      <td>41</td>\n",
       "      <td>0</td>\n",
       "      <td>1</td>\n",
       "      <td>130</td>\n",
       "      <td>204</td>\n",
       "      <td>0</td>\n",
       "      <td>0</td>\n",
       "      <td>172</td>\n",
       "      <td>0</td>\n",
       "      <td>1.4</td>\n",
       "      <td>2</td>\n",
       "      <td>0</td>\n",
       "      <td>2</td>\n",
       "      <td>1</td>\n",
       "    </tr>\n",
       "    <tr>\n",
       "      <th>3</th>\n",
       "      <td>56</td>\n",
       "      <td>1</td>\n",
       "      <td>1</td>\n",
       "      <td>120</td>\n",
       "      <td>236</td>\n",
       "      <td>0</td>\n",
       "      <td>1</td>\n",
       "      <td>178</td>\n",
       "      <td>0</td>\n",
       "      <td>0.8</td>\n",
       "      <td>2</td>\n",
       "      <td>0</td>\n",
       "      <td>2</td>\n",
       "      <td>1</td>\n",
       "    </tr>\n",
       "    <tr>\n",
       "      <th>4</th>\n",
       "      <td>57</td>\n",
       "      <td>0</td>\n",
       "      <td>0</td>\n",
       "      <td>120</td>\n",
       "      <td>354</td>\n",
       "      <td>0</td>\n",
       "      <td>1</td>\n",
       "      <td>163</td>\n",
       "      <td>1</td>\n",
       "      <td>0.6</td>\n",
       "      <td>2</td>\n",
       "      <td>0</td>\n",
       "      <td>2</td>\n",
       "      <td>1</td>\n",
       "    </tr>\n",
       "  </tbody>\n",
       "</table>\n",
       "</div>"
      ],
      "text/plain": [
       "   age  sex  cp  trestbps  chol  fbs  restecg  thalach  exang  oldpeak  slope  \\\n",
       "0   63    1   3       145   233    1        0      150      0      2.3      0   \n",
       "1   37    1   2       130   250    0        1      187      0      3.5      0   \n",
       "2   41    0   1       130   204    0        0      172      0      1.4      2   \n",
       "3   56    1   1       120   236    0        1      178      0      0.8      2   \n",
       "4   57    0   0       120   354    0        1      163      1      0.6      2   \n",
       "\n",
       "   ca  thal  target  \n",
       "0   0     1       1  \n",
       "1   0     2       1  \n",
       "2   0     2       1  \n",
       "3   0     2       1  \n",
       "4   0     2       1  "
      ]
     },
     "execution_count": 35,
     "metadata": {},
     "output_type": "execute_result"
    }
   ],
   "source": [
    "df = pd.read_csv(\"heart-disease.csv\")\n",
    "df.head()"
   ]
  },
  {
   "cell_type": "markdown",
   "metadata": {},
   "source": [
    "Consulting the estimator map above, let's try `LinearSVC`"
   ]
  },
  {
   "cell_type": "code",
   "execution_count": 36,
   "metadata": {},
   "outputs": [
    {
     "name": "stdout",
     "output_type": "stream",
     "text": [
      "(242, 13) (61, 13) (242,) (61,)\n"
     ]
    },
    {
     "name": "stderr",
     "output_type": "stream",
     "text": [
      "c:\\Users\\soiko\\anaconda3\\lib\\site-packages\\sklearn\\svm\\_base.py:1206: ConvergenceWarning: Liblinear failed to converge, increase the number of iterations.\n",
      "  warnings.warn(\n"
     ]
    },
    {
     "data": {
      "text/plain": [
       "0.45901639344262296"
      ]
     },
     "execution_count": 36,
     "metadata": {},
     "output_type": "execute_result"
    }
   ],
   "source": [
    "from sklearn.model_selection import train_test_split\n",
    "\n",
    "from sklearn.svm import LinearSVC\n",
    "\n",
    "# seed the random number generator\n",
    "np.random.seed(0)\n",
    "\n",
    "# create the data\n",
    "X = df.drop('target', axis=1)\n",
    "y = df['target']\n",
    "\n",
    "# split the data into train and test\n",
    "X_train, X_test, y_train, y_test = train_test_split(X, y, test_size=0.2, random_state=0)\n",
    "print(X_train.shape, X_test.shape, y_train.shape, y_test.shape)\n",
    "\n",
    "# instantiate the model\n",
    "model = LinearSVC()\n",
    "model.fit(X_train, y_train)\n",
    "\n",
    "# check the score on the test set\n",
    "model.score(X_test, y_test)"
   ]
  },
  {
   "cell_type": "markdown",
   "metadata": {},
   "source": [
    "#### Ensemble methods for classification"
   ]
  },
  {
   "cell_type": "code",
   "execution_count": 40,
   "metadata": {},
   "outputs": [
    {
     "name": "stdout",
     "output_type": "stream",
     "text": [
      "(242, 13) (61, 13) (242,) (61,)\n"
     ]
    },
    {
     "data": {
      "text/plain": [
       "0.8852459016393442"
      ]
     },
     "execution_count": 40,
     "metadata": {},
     "output_type": "execute_result"
    }
   ],
   "source": [
    "from sklearn.model_selection import train_test_split\n",
    "from sklearn.ensemble import RandomForestClassifier\n",
    "\n",
    "# seed the random number generator\n",
    "np.random.seed(0)\n",
    "\n",
    "# create the data\n",
    "X = df.drop('target', axis=1)\n",
    "y = df['target']\n",
    "\n",
    "# split the data into train and test\n",
    "X_train, X_test, y_train, y_test = train_test_split(X, y, test_size=0.2, random_state=0)\n",
    "print(X_train.shape, X_test.shape, y_train.shape, y_test.shape)\n",
    "\n",
    "# instantiate the model\n",
    "model = RandomForestClassifier()\n",
    "model.fit(X_train, y_train)\n",
    "\n",
    "# check the score on the test set\n",
    "model.score(X_test, y_test)"
   ]
  },
  {
   "cell_type": "markdown",
   "metadata": {},
   "source": [
    "Titbit:\n",
    "\n",
    "- If you have structured data, use `ensemble` methods\n",
    "- If you have unstructured data, use `deep learning` or `transfer learning`"
   ]
  },
  {
   "cell_type": "markdown",
   "metadata": {},
   "source": [
    "## Making Predictions"
   ]
  },
  {
   "cell_type": "markdown",
   "metadata": {},
   "source": [
    "### With Classification Model"
   ]
  },
  {
   "cell_type": "markdown",
   "metadata": {},
   "source": [
    "Using \n",
    "- `predict()`\n",
    "- `predict_proba()`"
   ]
  },
  {
   "cell_type": "code",
   "execution_count": 52,
   "metadata": {},
   "outputs": [
    {
     "name": "stdout",
     "output_type": "stream",
     "text": [
      "(242, 13) (61, 13) (242,) (61,)\n"
     ]
    },
    {
     "data": {
      "text/plain": [
       "0.8852459016393442"
      ]
     },
     "execution_count": 52,
     "metadata": {},
     "output_type": "execute_result"
    }
   ],
   "source": [
    "from sklearn.model_selection import train_test_split\n",
    "from sklearn.ensemble import RandomForestClassifier\n",
    "df = pd.read_csv(\"heart-disease.csv\")\n",
    "np.random.seed(0)\n",
    "\n",
    "X = df.drop('target', axis=1)\n",
    "y = df['target']\n",
    "\n",
    "X_train, X_test, y_train, y_test = train_test_split(X, y, test_size=0.2, random_state=0)\n",
    "print(X_train.shape, X_test.shape, y_train.shape, y_test.shape)\n",
    "\n",
    "# instantiate the model\n",
    "clf = RandomForestClassifier()\n",
    "clf.fit(X_train, y_train)\n",
    "\n",
    "# check the score on the test set\n",
    "clf.score(X_test, y_test)"
   ]
  },
  {
   "cell_type": "markdown",
   "metadata": {},
   "source": [
    "#### `predict()` "
   ]
  },
  {
   "cell_type": "code",
   "execution_count": 53,
   "metadata": {},
   "outputs": [
    {
     "data": {
      "text/plain": [
       "array([0, 0, 0, 0, 0, 1, 0, 0, 0, 0, 1, 1, 0, 1, 1, 1, 0, 1, 0, 1, 1, 0,\n",
       "       0, 0, 1, 0, 0, 0, 1, 1, 1, 0, 1, 1, 1, 0, 0, 1, 0, 0, 1, 1, 1, 0,\n",
       "       0, 1, 1, 0, 0, 1, 1, 1, 1, 1, 1, 0, 1, 1, 1, 1, 1], dtype=int64)"
      ]
     },
     "execution_count": 53,
     "metadata": {},
     "output_type": "execute_result"
    }
   ],
   "source": [
    "# get prediction:\n",
    "clf.predict(X_test)\n"
   ]
  },
  {
   "cell_type": "code",
   "execution_count": 54,
   "metadata": {},
   "outputs": [
    {
     "data": {
      "text/plain": [
       "array([0, 1, 0, 0, 1, 0, 0, 0, 0, 0, 1, 1, 0, 1, 1, 1, 1, 1, 0, 1, 1, 0,\n",
       "       0, 0, 1, 0, 0, 0, 1, 1, 0, 0, 1, 1, 1, 0, 0, 1, 0, 0, 1, 1, 1, 0,\n",
       "       1, 1, 1, 0, 0, 1, 1, 1, 1, 1, 1, 0, 1, 0, 1, 1, 1], dtype=int64)"
      ]
     },
     "execution_count": 54,
     "metadata": {},
     "output_type": "execute_result"
    }
   ],
   "source": [
    "# original label\n",
    "np.array(y_test)"
   ]
  },
  {
   "cell_type": "code",
   "execution_count": 55,
   "metadata": {},
   "outputs": [
    {
     "data": {
      "text/plain": [
       "0.8852459016393442"
      ]
     },
     "execution_count": 55,
     "metadata": {},
     "output_type": "execute_result"
    }
   ],
   "source": [
    "# compare the prediction with the truth label to evaluate the model\n",
    "y_preds = clf.predict(X_test)\n",
    "np.mean(y_preds == y_test)"
   ]
  },
  {
   "cell_type": "markdown",
   "metadata": {},
   "source": [
    "using `accuracy_score(y_test, y_preds)`:"
   ]
  },
  {
   "cell_type": "code",
   "execution_count": 56,
   "metadata": {},
   "outputs": [
    {
     "data": {
      "text/plain": [
       "0.8852459016393442"
      ]
     },
     "execution_count": 56,
     "metadata": {},
     "output_type": "execute_result"
    }
   ],
   "source": [
    "from sklearn.metrics import accuracy_score\n",
    "accuracy_score(y_test, y_preds)"
   ]
  },
  {
   "cell_type": "markdown",
   "metadata": {},
   "source": [
    "which is same as the `score(X_test, y_test)` method in scikit-learn"
   ]
  },
  {
   "cell_type": "code",
   "execution_count": 57,
   "metadata": {},
   "outputs": [
    {
     "data": {
      "text/plain": [
       "0.8852459016393442"
      ]
     },
     "execution_count": 57,
     "metadata": {},
     "output_type": "execute_result"
    }
   ],
   "source": [
    "# ~\n",
    "clf.score(X_test, y_test)\n"
   ]
  },
  {
   "cell_type": "markdown",
   "metadata": {},
   "source": [
    "#### `predict_proba()`"
   ]
  },
  {
   "cell_type": "code",
   "execution_count": 58,
   "metadata": {},
   "outputs": [
    {
     "data": {
      "text/plain": [
       "array([[0.9 , 0.1 ],\n",
       "       [0.56, 0.44],\n",
       "       [0.5 , 0.5 ],\n",
       "       [1.  , 0.  ],\n",
       "       [0.88, 0.12]])"
      ]
     },
     "execution_count": 58,
     "metadata": {},
     "output_type": "execute_result"
    }
   ],
   "source": [
    "# return probabilities of a classification model\n",
    "clf.predict_proba(X_test[:5])\n"
   ]
  },
  {
   "cell_type": "markdown",
   "metadata": {},
   "source": [
    "### With Regression Model"
   ]
  },
  {
   "cell_type": "code",
   "execution_count": 59,
   "metadata": {},
   "outputs": [
    {
     "name": "stdout",
     "output_type": "stream",
     "text": [
      "(404, 13) (102, 13) (404,) (102,)\n"
     ]
    },
    {
     "data": {
      "text/plain": [
       "0.7734908201180223"
      ]
     },
     "execution_count": 59,
     "metadata": {},
     "output_type": "execute_result"
    }
   ],
   "source": [
    "df = pd.read_csv(\"Boston.csv\",index_col=0)\n",
    "from sklearn.model_selection import train_test_split\n",
    "from sklearn.ensemble import RandomForestRegressor\n",
    "np.random.seed(0)\n",
    "X = df.drop('medv', axis=1)\n",
    "y = df['medv']\n",
    "\n",
    "X_train, X_test, y_train, y_test = train_test_split(X, y, test_size=0.2, random_state=0)\n",
    "print(X_train.shape, X_test.shape, y_train.shape, y_test.shape)\n",
    "\n",
    "model = RandomForestRegressor(n_estimators=100)\n",
    "model.fit(X_train, y_train)\n",
    "model.score(X_test, y_test)"
   ]
  },
  {
   "cell_type": "code",
   "execution_count": 63,
   "metadata": {},
   "outputs": [
    {
     "data": {
      "text/plain": [
       "array([23.932, 29.111, 22.14 , 11.006, 20.543])"
      ]
     },
     "execution_count": 63,
     "metadata": {},
     "output_type": "execute_result"
    }
   ],
   "source": [
    "y_preds = model.predict(X_test)\n",
    "y_preds[:5]"
   ]
  },
  {
   "cell_type": "code",
   "execution_count": 64,
   "metadata": {},
   "outputs": [
    {
     "data": {
      "text/plain": [
       "array([22.6, 50. , 23. ,  8.3, 21.2])"
      ]
     },
     "execution_count": 64,
     "metadata": {},
     "output_type": "execute_result"
    }
   ],
   "source": [
    "np.array(y_test[:5])\n"
   ]
  },
  {
   "cell_type": "code",
   "execution_count": 66,
   "metadata": {},
   "outputs": [
    {
     "data": {
      "text/plain": [
       "0.0"
      ]
     },
     "execution_count": 66,
     "metadata": {},
     "output_type": "execute_result"
    }
   ],
   "source": [
    "# compare the prediction with the truth label to evaluate the model\n",
    "y_preds = model.predict(X_test)\n",
    "np.mean(y_preds == y_test)\n",
    "# ?????"
   ]
  },
  {
   "cell_type": "code",
   "execution_count": 67,
   "metadata": {},
   "outputs": [
    {
     "data": {
      "text/plain": [
       "2.6503039215686295"
      ]
     },
     "execution_count": 67,
     "metadata": {},
     "output_type": "execute_result"
    }
   ],
   "source": [
    "from sklearn.metrics import mean_absolute_error\n",
    "mean_absolute_error(y_test, y_preds)"
   ]
  },
  {
   "cell_type": "markdown",
   "metadata": {},
   "source": [
    "## Evaluation"
   ]
  },
  {
   "cell_type": "markdown",
   "metadata": {},
   "source": [
    "- [https://scikit-learn.org/stable/modules/model_evaluation.html](https://scikit-learn.org/stable/modules/model_evaluation.html)"
   ]
  },
  {
   "cell_type": "markdown",
   "metadata": {},
   "source": [
    "There are 3 different APIs for evaluating the quality of a model’s predictions:\n",
    "\n",
    "- Estimator `score()` method\n",
    "- The `scoring` parameter;  `cross-validation`\n",
    "- Problem Specific Metric functions"
   ]
  },
  {
   "cell_type": "markdown",
   "metadata": {},
   "source": [
    "### `model.score(X_test, y_test)`"
   ]
  },
  {
   "cell_type": "code",
   "execution_count": 74,
   "metadata": {},
   "outputs": [
    {
     "name": "stdout",
     "output_type": "stream",
     "text": [
      "(242, 13) (61, 13) (242,) (61,)\n"
     ]
    },
    {
     "data": {
      "text/plain": [
       "RandomForestClassifier()"
      ]
     },
     "execution_count": 74,
     "metadata": {},
     "output_type": "execute_result"
    }
   ],
   "source": [
    "from sklearn.model_selection import train_test_split\n",
    "from sklearn.ensemble import RandomForestClassifier\n",
    "df = pd.read_csv(\"heart-disease.csv\")\n",
    "np.random.seed(0)\n",
    "\n",
    "X = df.drop('target', axis=1)\n",
    "y = df['target']\n",
    "\n",
    "X_train, X_test, y_train, y_test = train_test_split(\n",
    "    X, y, test_size=0.2, random_state=0)\n",
    "print(X_train.shape, X_test.shape, y_train.shape, y_test.shape)\n",
    "\n",
    "# instantiate the model\n",
    "clf = RandomForestClassifier()\n",
    "clf.fit(X_train, y_train)\n",
    "\n"
   ]
  },
  {
   "cell_type": "code",
   "execution_count": 75,
   "metadata": {},
   "outputs": [
    {
     "data": {
      "text/plain": [
       "0.8852459016393442"
      ]
     },
     "execution_count": 75,
     "metadata": {},
     "output_type": "execute_result"
    }
   ],
   "source": [
    "# check the score on the test set\n",
    "clf.score(X_test, y_test)"
   ]
  },
  {
   "cell_type": "code",
   "execution_count": 76,
   "metadata": {},
   "outputs": [
    {
     "name": "stdout",
     "output_type": "stream",
     "text": [
      "(404, 13) (102, 13) (404,) (102,)\n"
     ]
    },
    {
     "data": {
      "text/plain": [
       "RandomForestRegressor()"
      ]
     },
     "execution_count": 76,
     "metadata": {},
     "output_type": "execute_result"
    }
   ],
   "source": [
    "df = pd.read_csv(\"Boston.csv\",index_col=0)\n",
    "from sklearn.model_selection import train_test_split\n",
    "from sklearn.ensemble import RandomForestRegressor\n",
    "np.random.seed(0)\n",
    "X = df.drop('medv', axis=1)\n",
    "y = df['medv']\n",
    "\n",
    "X_train, X_test, y_train, y_test = train_test_split(X, y, test_size=0.2, random_state=0)\n",
    "print(X_train.shape, X_test.shape, y_train.shape, y_test.shape)\n",
    "\n",
    "regr = RandomForestRegressor(n_estimators=100)\n",
    "regr.fit(X_train, y_train)\n"
   ]
  },
  {
   "cell_type": "code",
   "execution_count": 77,
   "metadata": {},
   "outputs": [
    {
     "data": {
      "text/plain": [
       "0.7734908201180223"
      ]
     },
     "execution_count": 77,
     "metadata": {},
     "output_type": "execute_result"
    }
   ],
   "source": [
    "regr.score(X_test, y_test)"
   ]
  },
  {
   "cell_type": "markdown",
   "metadata": {},
   "source": [
    "### cross validation with `cross_val_score()` "
   ]
  },
  {
   "cell_type": "markdown",
   "metadata": {},
   "source": [
    "<div align=\"center\">\n",
    "<img src=\"img/cv.jpg\" alt=\"cv.jpg\" width=\"700px\">\n",
    "</div>"
   ]
  },
  {
   "cell_type": "code",
   "execution_count": 86,
   "metadata": {},
   "outputs": [
    {
     "name": "stdout",
     "output_type": "stream",
     "text": [
      "(242, 13) (61, 13) (242,) (61,)\n"
     ]
    },
    {
     "data": {
      "text/plain": [
       "0.8852459016393442"
      ]
     },
     "execution_count": 86,
     "metadata": {},
     "output_type": "execute_result"
    }
   ],
   "source": [
    "from sklearn.model_selection import train_test_split\n",
    "from sklearn.ensemble import RandomForestClassifier\n",
    "df = pd.read_csv(\"heart-disease.csv\")\n",
    "np.random.seed(0)\n",
    "\n",
    "X = df.drop('target', axis=1)\n",
    "y = df['target']\n",
    "\n",
    "X_train, X_test, y_train, y_test = train_test_split(\n",
    "    X, y, test_size=0.2, random_state=0)\n",
    "print(X_train.shape, X_test.shape, y_train.shape, y_test.shape)\n",
    "\n",
    "# instantiate the model\n",
    "clf = RandomForestClassifier(n_estimators=100)\n",
    "clf.fit(X_train, y_train)\n",
    "clf.score(X_test, y_test)"
   ]
  },
  {
   "cell_type": "code",
   "execution_count": 87,
   "metadata": {},
   "outputs": [],
   "source": [
    "from sklearn.model_selection import cross_val_score"
   ]
  },
  {
   "cell_type": "code",
   "execution_count": 88,
   "metadata": {},
   "outputs": [
    {
     "data": {
      "text/plain": [
       "array([0.87096774, 0.80645161, 0.83870968, 0.9       , 0.86666667,\n",
       "       0.76666667, 0.73333333, 0.9       , 0.73333333, 0.8       ])"
      ]
     },
     "execution_count": 88,
     "metadata": {},
     "output_type": "execute_result"
    }
   ],
   "source": [
    "cross_val_score(clf, X, y, cv=10)"
   ]
  },
  {
   "cell_type": "code",
   "execution_count": 89,
   "metadata": {},
   "outputs": [
    {
     "name": "stdout",
     "output_type": "stream",
     "text": [
      "0.8852459016393442 0.8347311827956989\n"
     ]
    }
   ],
   "source": [
    "np.random.seed(0)\n",
    "\n",
    "# single training and test split score\n",
    "clf_single_score = clf.score(X_test, y_test)\n",
    "\n",
    "# take the mean of 10-fold cross validation score\n",
    "clf_cross_val_score = np.mean(cross_val_score(clf, X, y, cv=10))\n",
    "\n",
    "# compare the two scores\n",
    "print(clf_single_score, clf_cross_val_score)"
   ]
  },
  {
   "cell_type": "markdown",
   "metadata": {},
   "source": [
    "### Problem Specific Metrics for Classification"
   ]
  },
  {
   "cell_type": "markdown",
   "metadata": {},
   "source": [
    " - Accuracy\n",
    " - Area Under the ROC Curve\n",
    " - Confusion Matrix\n",
    " - Classification Report"
   ]
  },
  {
   "cell_type": "markdown",
   "metadata": {},
   "source": [
    "#### Accuracy"
   ]
  },
  {
   "cell_type": "code",
   "execution_count": 90,
   "metadata": {},
   "outputs": [
    {
     "name": "stdout",
     "output_type": "stream",
     "text": [
      "(242, 13) (61, 13) (242,) (61,)\n"
     ]
    }
   ],
   "source": [
    "from sklearn.model_selection import train_test_split\n",
    "from sklearn.ensemble import RandomForestClassifier\n",
    "df = pd.read_csv(\"heart-disease.csv\")\n",
    "np.random.seed(0)\n",
    "X = df.drop('target', axis=1)\n",
    "y = df['target']\n",
    "\n",
    "X_train, X_test, y_train, y_test = train_test_split(\n",
    "    X, y, test_size=0.2, random_state=0)\n",
    "print(X_train.shape, X_test.shape, y_train.shape, y_test.shape)\n",
    "clf = RandomForestClassifier(n_estimators=100)\n"
   ]
  },
  {
   "cell_type": "code",
   "execution_count": 91,
   "metadata": {},
   "outputs": [],
   "source": [
    "cross_val_score = cross_val_score(clf, X, y, cv=10)"
   ]
  },
  {
   "cell_type": "code",
   "execution_count": 92,
   "metadata": {},
   "outputs": [
    {
     "data": {
      "text/plain": [
       "0.8347311827956989"
      ]
     },
     "execution_count": 92,
     "metadata": {},
     "output_type": "execute_result"
    }
   ],
   "source": [
    "np.mean(cross_val_score)"
   ]
  },
  {
   "cell_type": "code",
   "execution_count": 94,
   "metadata": {},
   "outputs": [
    {
     "name": "stdout",
     "output_type": "stream",
     "text": [
      "Heart disease Cross-Validated Accuracy: 83.47%\n"
     ]
    }
   ],
   "source": [
    "print(f\"Heart disease Cross-Validated Accuracy: {np.mean(cross_val_score) * 100:.2f}%\")"
   ]
  },
  {
   "cell_type": "markdown",
   "metadata": {},
   "source": [
    "#### Area Under the ROC Curve"
   ]
  },
  {
   "cell_type": "markdown",
   "metadata": {},
   "source": [
    "**Area Under the receiver operating characteristic curve (ROC/AUC)**\n",
    "\n",
    "- Area under the cure(AUC)\n",
    "- ROC curve"
   ]
  },
  {
   "cell_type": "markdown",
   "metadata": {},
   "source": [
    "ROC curve are a comparison of the true positive rate (TPR) versus a models false positive rate (FPR).\n",
    "\n",
    "- `True positive`  = model predicts `1` and truth is `1`\n",
    "- `False positive` = model predicts `1` and truth is `0`\n",
    "- `True negative`  = model predicts `0` and truth is `0`\n",
    "- `False negative` = model predicts `0` and truth is `1`"
   ]
  },
  {
   "cell_type": "code",
   "execution_count": 2,
   "metadata": {},
   "outputs": [
    {
     "name": "stdout",
     "output_type": "stream",
     "text": [
      "(242, 13) (61, 13) (242,) (61,)\n"
     ]
    }
   ],
   "source": [
    "from sklearn.model_selection import train_test_split\n",
    "from sklearn.ensemble import RandomForestClassifier\n",
    "df = pd.read_csv(\"heart-disease.csv\")\n",
    "np.random.seed(0)\n",
    "X = df.drop('target', axis=1)\n",
    "y = df['target']\n",
    "\n",
    "X_train, X_test, y_train, y_test = train_test_split(\n",
    "    X, y, test_size=0.2, random_state=0)\n",
    "print(X_train.shape, X_test.shape, y_train.shape, y_test.shape)\n",
    "clf = RandomForestClassifier(n_estimators=100)\n"
   ]
  },
  {
   "cell_type": "code",
   "execution_count": 4,
   "metadata": {},
   "outputs": [
    {
     "data": {
      "text/plain": [
       "array([[0.86, 0.14],\n",
       "       [0.46, 0.54],\n",
       "       [0.4 , 0.6 ],\n",
       "       [1.  , 0.  ],\n",
       "       [0.84, 0.16]])"
      ]
     },
     "execution_count": 4,
     "metadata": {},
     "output_type": "execute_result"
    }
   ],
   "source": [
    "from sklearn.metrics import roc_curve\n",
    "\n",
    "# fit \n",
    "clf.fit(X_train, y_train)\n",
    "\n",
    "# make predictions with probabilities\n",
    "y_probs = clf.predict_proba(X_test)\n",
    "y_probs[:5]"
   ]
  },
  {
   "cell_type": "code",
   "execution_count": 5,
   "metadata": {},
   "outputs": [
    {
     "data": {
      "text/plain": [
       "array([0.14, 0.54, 0.6 , 0.  , 0.16])"
      ]
     },
     "execution_count": 5,
     "metadata": {},
     "output_type": "execute_result"
    }
   ],
   "source": [
    "y_probs_positive  = y_probs[:, 1]\n",
    "y_probs_positive[:5]"
   ]
  },
  {
   "cell_type": "code",
   "execution_count": 7,
   "metadata": {},
   "outputs": [
    {
     "data": {
      "text/plain": [
       "array([0.        , 0.        , 0.        , 0.        , 0.        ,\n",
       "       0.        , 0.        , 0.        , 0.        , 0.        ,\n",
       "       0.03703704, 0.03703704, 0.03703704, 0.14814815, 0.18518519,\n",
       "       0.18518519, 0.18518519, 0.18518519, 0.22222222, 0.22222222,\n",
       "       0.33333333, 0.37037037, 0.55555556, 0.55555556, 0.7037037 ,\n",
       "       0.81481481, 0.88888889, 1.        ])"
      ]
     },
     "execution_count": 7,
     "metadata": {},
     "output_type": "execute_result"
    }
   ],
   "source": [
    "# calculate fpr,tp,thresholds\n",
    "fpr, tpr, thresholds = roc_curve(y_test, y_probs_positive)\n",
    "fpr"
   ]
  },
  {
   "cell_type": "code",
   "execution_count": 10,
   "metadata": {},
   "outputs": [
    {
     "data": {
      "image/jpeg": "[encoded data removed]",
      "text/plain": [
       "<Figure size 432x288 with 1 Axes>"
      ]
     },
     "metadata": {
      "needs_background": "light"
     },
     "output_type": "display_data"
    }
   ],
   "source": [
    "def plot_roc_curve(fpr,tpr):\n",
    "\t\"\"\" \n",
    "\tPlots a ROC curve given the false positive rate and true positive rate.\n",
    "\t\"\"\"\n",
    "\tplt.plot(fpr, tpr, color='orange', label='ROC')\n",
    "\tplt.plot([0, 1], [0, 1], color='darkblue', linestyle='--', label='Guessing')\n",
    "\t# customise the plot\n",
    "\tplt.xlabel('False Positive Rate')\n",
    "\tplt.ylabel('True Positive Rate')\n",
    "\tplt.title('Receiver Operating Characteristic (ROC) Curve')\n",
    "\tplt.legend()\n",
    "\tplt.show()\n",
    "\n",
    "plot_roc_curve(fpr,tpr)"
   ]
  },
  {
   "cell_type": "code",
   "execution_count": 15,
   "metadata": {},
   "outputs": [
    {
     "data": {
      "image/jpeg": "[encoded data removed]",
      "text/plain": [
       "<Figure size 432x288 with 1 Axes>"
      ]
     },
     "metadata": {
      "needs_background": "light"
     },
     "output_type": "display_data"
    }
   ],
   "source": [
    "# how a perfect ROC curve looks like?\n",
    "ftr , tpr, thresholds = roc_curve(y_test, y_test)\n",
    "plot_roc_curve(ftr,tpr)"
   ]
  },
  {
   "cell_type": "code",
   "execution_count": 14,
   "metadata": {},
   "outputs": [
    {
     "data": {
      "text/plain": [
       "0.9281045751633987"
      ]
     },
     "execution_count": 14,
     "metadata": {},
     "output_type": "execute_result"
    }
   ],
   "source": [
    "from sklearn.metrics import roc_auc_score\n",
    "\n",
    "roc_auc_score(y_test, y_probs_positive)\n"
   ]
  },
  {
   "cell_type": "markdown",
   "metadata": {},
   "source": []
  },
  {
   "cell_type": "markdown",
   "metadata": {},
   "source": [
    "## 🔥Grid Search"
   ]
  },
  {
   "cell_type": "code",
   "execution_count": 35,
   "metadata": {},
   "outputs": [
    {
     "name": "stdout",
     "output_type": "stream",
     "text": [
      "(242, 13) (61, 13) (242,) (61,)\n",
      "Running Model:\n"
     ]
    },
    {
     "data": {
      "application/vnd.jupyter.widget-view+json": {
       "model_id": "1d542803bae249fdb1861ed9cabffc98",
       "version_major": 2,
       "version_minor": 0
      },
      "text/plain": [
       "  0%|          | 0/2 [00:00<?, ?it/s]"
      ]
     },
     "metadata": {},
     "output_type": "display_data"
    },
    {
     "data": {
      "text/html": [
       "<div>\n",
       "<style scoped>\n",
       "    .dataframe tbody tr th:only-of-type {\n",
       "        vertical-align: middle;\n",
       "    }\n",
       "\n",
       "    .dataframe tbody tr th {\n",
       "        vertical-align: top;\n",
       "    }\n",
       "\n",
       "    .dataframe thead th {\n",
       "        text-align: right;\n",
       "    }\n",
       "</style>\n",
       "<table border=\"1\" class=\"dataframe\">\n",
       "  <thead>\n",
       "    <tr style=\"text-align: right;\">\n",
       "      <th></th>\n",
       "      <th>model</th>\n",
       "      <th>training_best_score</th>\n",
       "      <th>test_best_score</th>\n",
       "      <th>best_params</th>\n",
       "    </tr>\n",
       "  </thead>\n",
       "  <tbody>\n",
       "    <tr>\n",
       "      <th>0</th>\n",
       "      <td>RandomForest</td>\n",
       "      <td>0.832781</td>\n",
       "      <td>0.852459</td>\n",
       "      <td>{'max_depth': 85, 'max_features': 'sqrt', 'n_estimators': 100, 'random_state': 42}</td>\n",
       "    </tr>\n",
       "    <tr>\n",
       "      <th>1</th>\n",
       "      <td>DecisionTree</td>\n",
       "      <td>0.766454</td>\n",
       "      <td>0.819672</td>\n",
       "      <td>{'criterion': 'gini', 'max_depth': None, 'max_features': None, 'random_state': 42, 'splitter': 'random'}</td>\n",
       "    </tr>\n",
       "  </tbody>\n",
       "</table>\n",
       "</div>"
      ],
      "text/plain": [
       "          model  training_best_score  test_best_score                                                                                               best_params\n",
       "0  RandomForest             0.832781         0.852459                        {'max_depth': 85, 'max_features': 'sqrt', 'n_estimators': 100, 'random_state': 42}\n",
       "1  DecisionTree             0.766454         0.819672  {'criterion': 'gini', 'max_depth': None, 'max_features': None, 'random_state': 42, 'splitter': 'random'}"
      ]
     },
     "execution_count": 35,
     "metadata": {},
     "output_type": "execute_result"
    }
   ],
   "source": [
    "import pandas as pd\n",
    "import numpy as np\n",
    "np.random.seed(42)\n",
    "from tqdm.notebook import tqdm\n",
    "\n",
    "# modelling\n",
    "from sklearn.model_selection import train_test_split\n",
    "from sklearn.ensemble import RandomForestRegressor, RandomForestClassifier\n",
    "from sklearn.model_selection import GridSearchCV\n",
    "from sklearn.tree import DecisionTreeClassifier\n",
    "from sklearn.model_selection import RepeatedKFold\n",
    "\n",
    "# matrics\n",
    "from sklearn.metrics import accuracy_score\n",
    "# # ignore ConvergenceWarnings\n",
    "# from warnings import simplefilter\n",
    "# from sklearn.exceptions import ConvergenceWarning\n",
    "# simplefilter(\"ignore\", category=ConvergenceWarning)\n",
    "\n",
    "df = pd.read_csv(\"heart-disease.csv\")\n",
    "np.random.seed(0)\n",
    "\n",
    "X = df.drop('target', axis=1)\n",
    "y = df['target']\n",
    "\n",
    "X_train, X_test, y_train, y_test = train_test_split(X, y, test_size=0.2, random_state=0)\n",
    "print(X_train.shape, X_test.shape, y_train.shape, y_test.shape)\n",
    "\n",
    "models = [\n",
    "    {\n",
    "      \"model_instance\": RandomForestClassifier(),\n",
    "      \"model_name\": \"RandomForest\",\n",
    "      \"params\": {\n",
    "          \"max_depth\": [85],\n",
    "          \"max_features\": ['sqrt'],\n",
    "          \"n_estimators\": [50,60, 80, 90,100],\n",
    "          \"random_state\": [42]\n",
    "        }\n",
    "    },\n",
    "    { \"model_instance\": DecisionTreeClassifier(),\n",
    "      \"model_name\": \"DecisionTree\",\n",
    "      \"params\": {\n",
    "          \"criterion\": ['gini','entropy'],\n",
    "          \"splitter\": ['best','random'],\n",
    "          \"max_depth\": [None,90,95,100],\n",
    "          \"max_features\": [None, \"sqrt\",\"log2\"],\n",
    "          \"random_state\": [42]\n",
    "      }\n",
    "    },\n",
    "]\n",
    "\n",
    "scores = []\n",
    "highest_acc = 0\n",
    "best_model = None\n",
    "# Cross validation Strategy\n",
    "cv = RepeatedKFold(n_splits=5, n_repeats=2, random_state=1)\n",
    "\n",
    "print(\"Running Model:\")\n",
    "for _,model in enumerate(tqdm(models)):\n",
    "\n",
    "    # Create a based model\n",
    "    model_instance = model[\"model_instance\"]\n",
    "    model_name = model[\"model_name\"]\n",
    "    grid = GridSearchCV(estimator=model_instance, param_grid=model[\"params\"],\n",
    "                              cv=cv, n_jobs=1)\n",
    "    grid.fit(X_train, y_train)\n",
    "\n",
    "    # get accuracy\n",
    "    acc = grid.score(X_test, y_test)\n",
    "\n",
    "    # acc = accuracy_score(predicted, y_test)\n",
    "    # check if highest accuracy\n",
    "    if acc > highest_acc:\n",
    "        highest_acc = acc\n",
    "        # save best model\n",
    "        best_model = grid\n",
    "        \n",
    "    # save model details\n",
    "    scores.append({\n",
    "        \"model\":model_name,\n",
    "        \"training_best_score\": grid.best_score_,\n",
    "        \"test_best_score\": acc,\n",
    "        \"best_params\": grid.best_params_\n",
    "      })    \n",
    "    \n",
    "    \n",
    "res_df = pd.DataFrame(scores)\n",
    "res_df"
   ]
  },
  {
   "cell_type": "code",
   "execution_count": 49,
   "metadata": {},
   "outputs": [
    {
     "name": "stdout",
     "output_type": "stream",
     "text": [
      "Index(['mean_fit_time', 'std_fit_time', 'mean_score_time', 'std_score_time',\n",
      "       'param_max_depth', 'param_max_features', 'param_n_estimators',\n",
      "       'param_random_state', 'params', 'split0_test_score',\n",
      "       'split1_test_score', 'split2_test_score', 'split3_test_score',\n",
      "       'split4_test_score', 'split5_test_score', 'split6_test_score',\n",
      "       'split7_test_score', 'split8_test_score', 'split9_test_score',\n",
      "       'mean_test_score', 'std_test_score', 'rank_test_score'],\n",
      "      dtype='object')\n"
     ]
    },
    {
     "data": {
      "text/html": [
       "<div>\n",
       "<style scoped>\n",
       "    .dataframe tbody tr th:only-of-type {\n",
       "        vertical-align: middle;\n",
       "    }\n",
       "\n",
       "    .dataframe tbody tr th {\n",
       "        vertical-align: top;\n",
       "    }\n",
       "\n",
       "    .dataframe thead th {\n",
       "        text-align: right;\n",
       "    }\n",
       "</style>\n",
       "<table border=\"1\" class=\"dataframe\">\n",
       "  <thead>\n",
       "    <tr style=\"text-align: right;\">\n",
       "      <th></th>\n",
       "      <th>mean_fit_time</th>\n",
       "      <th>std_fit_time</th>\n",
       "      <th>mean_score_time</th>\n",
       "      <th>std_score_time</th>\n",
       "      <th>param_max_depth</th>\n",
       "      <th>param_max_features</th>\n",
       "      <th>param_n_estimators</th>\n",
       "      <th>param_random_state</th>\n",
       "      <th>params</th>\n",
       "      <th>split0_test_score</th>\n",
       "      <th>...</th>\n",
       "      <th>split3_test_score</th>\n",
       "      <th>split4_test_score</th>\n",
       "      <th>split5_test_score</th>\n",
       "      <th>split6_test_score</th>\n",
       "      <th>split7_test_score</th>\n",
       "      <th>split8_test_score</th>\n",
       "      <th>split9_test_score</th>\n",
       "      <th>mean_test_score</th>\n",
       "      <th>std_test_score</th>\n",
       "      <th>rank_test_score</th>\n",
       "    </tr>\n",
       "  </thead>\n",
       "  <tbody>\n",
       "    <tr>\n",
       "      <th>0</th>\n",
       "      <td>0.095308</td>\n",
       "      <td>0.025508</td>\n",
       "      <td>0.008096</td>\n",
       "      <td>0.001643</td>\n",
       "      <td>85</td>\n",
       "      <td>sqrt</td>\n",
       "      <td>50</td>\n",
       "      <td>42</td>\n",
       "      <td>{'max_depth': 85, 'max_features': 'sqrt', 'n_e...</td>\n",
       "      <td>0.836735</td>\n",
       "      <td>...</td>\n",
       "      <td>0.791667</td>\n",
       "      <td>0.875</td>\n",
       "      <td>0.714286</td>\n",
       "      <td>0.836735</td>\n",
       "      <td>0.8125</td>\n",
       "      <td>0.916667</td>\n",
       "      <td>0.8125</td>\n",
       "      <td>0.822449</td>\n",
       "      <td>0.051033</td>\n",
       "      <td>4</td>\n",
       "    </tr>\n",
       "    <tr>\n",
       "      <th>1</th>\n",
       "      <td>0.115407</td>\n",
       "      <td>0.042089</td>\n",
       "      <td>0.011100</td>\n",
       "      <td>0.004404</td>\n",
       "      <td>85</td>\n",
       "      <td>sqrt</td>\n",
       "      <td>60</td>\n",
       "      <td>42</td>\n",
       "      <td>{'max_depth': 85, 'max_features': 'sqrt', 'n_e...</td>\n",
       "      <td>0.836735</td>\n",
       "      <td>...</td>\n",
       "      <td>0.812500</td>\n",
       "      <td>0.875</td>\n",
       "      <td>0.714286</td>\n",
       "      <td>0.836735</td>\n",
       "      <td>0.8125</td>\n",
       "      <td>0.895833</td>\n",
       "      <td>0.8125</td>\n",
       "      <td>0.822449</td>\n",
       "      <td>0.046586</td>\n",
       "      <td>5</td>\n",
       "    </tr>\n",
       "  </tbody>\n",
       "</table>\n",
       "<p>2 rows × 22 columns</p>\n",
       "</div>"
      ],
      "text/plain": [
       "   mean_fit_time  std_fit_time  mean_score_time  std_score_time  \\\n",
       "0       0.095308      0.025508         0.008096        0.001643   \n",
       "1       0.115407      0.042089         0.011100        0.004404   \n",
       "\n",
       "  param_max_depth param_max_features param_n_estimators param_random_state  \\\n",
       "0              85               sqrt                 50                 42   \n",
       "1              85               sqrt                 60                 42   \n",
       "\n",
       "                                              params  split0_test_score  ...  \\\n",
       "0  {'max_depth': 85, 'max_features': 'sqrt', 'n_e...           0.836735  ...   \n",
       "1  {'max_depth': 85, 'max_features': 'sqrt', 'n_e...           0.836735  ...   \n",
       "\n",
       "   split3_test_score  split4_test_score  split5_test_score  split6_test_score  \\\n",
       "0           0.791667              0.875           0.714286           0.836735   \n",
       "1           0.812500              0.875           0.714286           0.836735   \n",
       "\n",
       "   split7_test_score  split8_test_score  split9_test_score  mean_test_score  \\\n",
       "0             0.8125           0.916667             0.8125         0.822449   \n",
       "1             0.8125           0.895833             0.8125         0.822449   \n",
       "\n",
       "   std_test_score  rank_test_score  \n",
       "0        0.051033                4  \n",
       "1        0.046586                5  \n",
       "\n",
       "[2 rows x 22 columns]"
      ]
     },
     "execution_count": 49,
     "metadata": {},
     "output_type": "execute_result"
    }
   ],
   "source": [
    "results = pd.DataFrame(best_model.cv_results_)\n",
    "print(results.columns)\n",
    "results.head(2)"
   ]
  },
  {
   "cell_type": "code",
   "execution_count": 50,
   "metadata": {},
   "outputs": [
    {
     "data": {
      "text/plain": [
       "<AxesSubplot:xlabel='param_n_estimators', ylabel='mean_test_score'>"
      ]
     },
     "execution_count": 50,
     "metadata": {},
     "output_type": "execute_result"
    },
    {
     "data": {
      "image/jpeg": "[encoded data removed]",
      "text/plain": [
       "<Figure size 432x288 with 1 Axes>"
      ]
     },
     "metadata": {
      "needs_background": "light"
     },
     "output_type": "display_data"
    }
   ],
   "source": [
    "nesm = pd.DataFrame(best_model.cv_results_)[['param_n_estimators','mean_test_score']]\n",
    "sns.lineplot(x='param_n_estimators', y='mean_test_score', data=nesm)"
   ]
  },
  {
   "cell_type": "markdown",
   "metadata": {},
   "source": [
    "- [https://amueller.github.io/ml-training-intro/slides/03-cross-validation-grid-search.html#1](https://amueller.github.io/ml-training-intro/slides/03-cross-validation-grid-search.html#1)"
   ]
  },
  {
   "cell_type": "markdown",
   "metadata": {},
   "source": [
    "## Putting All Together: PipeLine + GridSearchCV"
   ]
  },
  {
   "cell_type": "markdown",
   "metadata": {},
   "source": [
    "- [towardsdatascience.com/how-to-use-sklearn-pipelines-for-ridiculously-neat-code](https://towardsdatascience.com/how-to-use-sklearn-pipelines-for-ridiculously-neat-code-a61ab66ca90d)\n",
    "- [towardsdatascience.com/are-you-using-pipeline-in-scikit-learn](https://towardsdatascience.com/are-you-using-pipeline-in-scikit-learn-ac4cd85cb27f)\n",
    "- [https://medium.com/vickdata/a-simple-guide-to-scikit-learn-pipelines](https://medium.com/vickdata/a-simple-guide-to-scikit-learn-pipelines-4ac0d974bdcf)"
   ]
  },
  {
   "cell_type": "markdown",
   "metadata": {},
   "source": [
    "### 🥈V1: Pipelining with Single Estimator\n"
   ]
  },
  {
   "cell_type": "code",
   "execution_count": 1,
   "metadata": {},
   "outputs": [],
   "source": [
    "# getting data ready\n",
    "import pandas as pd\n",
    "from sklearn.compose import ColumnTransformer\n",
    "from sklearn.preprocessing import OneHotEncoder, MinMaxScaler,StandardScaler\n",
    "from sklearn.impute import SimpleImputer\n",
    "from sklearn.pipeline import Pipeline\n",
    "from sklearn.decomposition import PCA\n",
    "\n",
    "# modelling\n",
    "from sklearn.model_selection import train_test_split\n",
    "from sklearn.ensemble import RandomForestClassifier, RandomForestRegressor\n",
    "\n",
    "# setup random seed for reproducibility\n",
    "import numpy as np\n",
    "np.random.seed(42)\n"
   ]
  },
  {
   "cell_type": "markdown",
   "metadata": {},
   "source": [
    "Workflow:\n",
    "- Handling Catagorical Features:\n",
    "  - `Pipeline` to chain Sequences of different transforms:\n",
    "    - `SimpleImputer` to replace missing values with most frequent value\n",
    "    - `OneHotEncoder` can be used to encode categorical variables.\n",
    "- Handling Numerical Features:\n",
    "  - `Pipeline` to chain Sequences of different transforms:\n",
    "    - `SimpleImputer` to replace missing values with mean\n",
    "    - `MinMaxScaler` class can be used to scale numerical value\n",
    "- `ColumnTransformer` to apply numerical transformer and categorical transformer and combine them into a single feature space after transformation. \n",
    "- \n"
   ]
  },
  {
   "cell_type": "markdown",
   "metadata": {},
   "source": [
    "#### 1. EDA"
   ]
  },
  {
   "cell_type": "code",
   "execution_count": 2,
   "metadata": {},
   "outputs": [
    {
     "data": {
      "text/html": [
       "<div>\n",
       "<style scoped>\n",
       "    .dataframe tbody tr th:only-of-type {\n",
       "        vertical-align: middle;\n",
       "    }\n",
       "\n",
       "    .dataframe tbody tr th {\n",
       "        vertical-align: top;\n",
       "    }\n",
       "\n",
       "    .dataframe thead th {\n",
       "        text-align: right;\n",
       "    }\n",
       "</style>\n",
       "<table border=\"1\" class=\"dataframe\">\n",
       "  <thead>\n",
       "    <tr style=\"text-align: right;\">\n",
       "      <th></th>\n",
       "      <th>Id</th>\n",
       "      <th>MSSubClass</th>\n",
       "      <th>MSZoning</th>\n",
       "      <th>LotFrontage</th>\n",
       "      <th>LotArea</th>\n",
       "      <th>Street</th>\n",
       "      <th>Alley</th>\n",
       "      <th>LotShape</th>\n",
       "      <th>LandContour</th>\n",
       "      <th>Utilities</th>\n",
       "      <th>...</th>\n",
       "      <th>PoolArea</th>\n",
       "      <th>PoolQC</th>\n",
       "      <th>Fence</th>\n",
       "      <th>MiscFeature</th>\n",
       "      <th>MiscVal</th>\n",
       "      <th>MoSold</th>\n",
       "      <th>YrSold</th>\n",
       "      <th>SaleType</th>\n",
       "      <th>SaleCondition</th>\n",
       "      <th>SalePrice</th>\n",
       "    </tr>\n",
       "  </thead>\n",
       "  <tbody>\n",
       "    <tr>\n",
       "      <th>0</th>\n",
       "      <td>1</td>\n",
       "      <td>60</td>\n",
       "      <td>RL</td>\n",
       "      <td>65.0</td>\n",
       "      <td>8450</td>\n",
       "      <td>Pave</td>\n",
       "      <td>NaN</td>\n",
       "      <td>Reg</td>\n",
       "      <td>Lvl</td>\n",
       "      <td>AllPub</td>\n",
       "      <td>...</td>\n",
       "      <td>0</td>\n",
       "      <td>NaN</td>\n",
       "      <td>NaN</td>\n",
       "      <td>NaN</td>\n",
       "      <td>0</td>\n",
       "      <td>2</td>\n",
       "      <td>2008</td>\n",
       "      <td>WD</td>\n",
       "      <td>Normal</td>\n",
       "      <td>208500</td>\n",
       "    </tr>\n",
       "    <tr>\n",
       "      <th>1</th>\n",
       "      <td>2</td>\n",
       "      <td>20</td>\n",
       "      <td>RL</td>\n",
       "      <td>80.0</td>\n",
       "      <td>9600</td>\n",
       "      <td>Pave</td>\n",
       "      <td>NaN</td>\n",
       "      <td>Reg</td>\n",
       "      <td>Lvl</td>\n",
       "      <td>AllPub</td>\n",
       "      <td>...</td>\n",
       "      <td>0</td>\n",
       "      <td>NaN</td>\n",
       "      <td>NaN</td>\n",
       "      <td>NaN</td>\n",
       "      <td>0</td>\n",
       "      <td>5</td>\n",
       "      <td>2007</td>\n",
       "      <td>WD</td>\n",
       "      <td>Normal</td>\n",
       "      <td>181500</td>\n",
       "    </tr>\n",
       "    <tr>\n",
       "      <th>2</th>\n",
       "      <td>3</td>\n",
       "      <td>60</td>\n",
       "      <td>RL</td>\n",
       "      <td>68.0</td>\n",
       "      <td>11250</td>\n",
       "      <td>Pave</td>\n",
       "      <td>NaN</td>\n",
       "      <td>IR1</td>\n",
       "      <td>Lvl</td>\n",
       "      <td>AllPub</td>\n",
       "      <td>...</td>\n",
       "      <td>0</td>\n",
       "      <td>NaN</td>\n",
       "      <td>NaN</td>\n",
       "      <td>NaN</td>\n",
       "      <td>0</td>\n",
       "      <td>9</td>\n",
       "      <td>2008</td>\n",
       "      <td>WD</td>\n",
       "      <td>Normal</td>\n",
       "      <td>223500</td>\n",
       "    </tr>\n",
       "    <tr>\n",
       "      <th>3</th>\n",
       "      <td>4</td>\n",
       "      <td>70</td>\n",
       "      <td>RL</td>\n",
       "      <td>60.0</td>\n",
       "      <td>9550</td>\n",
       "      <td>Pave</td>\n",
       "      <td>NaN</td>\n",
       "      <td>IR1</td>\n",
       "      <td>Lvl</td>\n",
       "      <td>AllPub</td>\n",
       "      <td>...</td>\n",
       "      <td>0</td>\n",
       "      <td>NaN</td>\n",
       "      <td>NaN</td>\n",
       "      <td>NaN</td>\n",
       "      <td>0</td>\n",
       "      <td>2</td>\n",
       "      <td>2006</td>\n",
       "      <td>WD</td>\n",
       "      <td>Abnorml</td>\n",
       "      <td>140000</td>\n",
       "    </tr>\n",
       "    <tr>\n",
       "      <th>4</th>\n",
       "      <td>5</td>\n",
       "      <td>60</td>\n",
       "      <td>RL</td>\n",
       "      <td>84.0</td>\n",
       "      <td>14260</td>\n",
       "      <td>Pave</td>\n",
       "      <td>NaN</td>\n",
       "      <td>IR1</td>\n",
       "      <td>Lvl</td>\n",
       "      <td>AllPub</td>\n",
       "      <td>...</td>\n",
       "      <td>0</td>\n",
       "      <td>NaN</td>\n",
       "      <td>NaN</td>\n",
       "      <td>NaN</td>\n",
       "      <td>0</td>\n",
       "      <td>12</td>\n",
       "      <td>2008</td>\n",
       "      <td>WD</td>\n",
       "      <td>Normal</td>\n",
       "      <td>250000</td>\n",
       "    </tr>\n",
       "  </tbody>\n",
       "</table>\n",
       "<p>5 rows × 81 columns</p>\n",
       "</div>"
      ],
      "text/plain": [
       "   Id  MSSubClass MSZoning  LotFrontage  LotArea Street Alley LotShape  \\\n",
       "0   1          60       RL         65.0     8450   Pave   NaN      Reg   \n",
       "1   2          20       RL         80.0     9600   Pave   NaN      Reg   \n",
       "2   3          60       RL         68.0    11250   Pave   NaN      IR1   \n",
       "3   4          70       RL         60.0     9550   Pave   NaN      IR1   \n",
       "4   5          60       RL         84.0    14260   Pave   NaN      IR1   \n",
       "\n",
       "  LandContour Utilities  ... PoolArea PoolQC Fence MiscFeature MiscVal MoSold  \\\n",
       "0         Lvl    AllPub  ...        0    NaN   NaN         NaN       0      2   \n",
       "1         Lvl    AllPub  ...        0    NaN   NaN         NaN       0      5   \n",
       "2         Lvl    AllPub  ...        0    NaN   NaN         NaN       0      9   \n",
       "3         Lvl    AllPub  ...        0    NaN   NaN         NaN       0      2   \n",
       "4         Lvl    AllPub  ...        0    NaN   NaN         NaN       0     12   \n",
       "\n",
       "  YrSold  SaleType  SaleCondition  SalePrice  \n",
       "0   2008        WD         Normal     208500  \n",
       "1   2007        WD         Normal     181500  \n",
       "2   2008        WD         Normal     223500  \n",
       "3   2006        WD        Abnorml     140000  \n",
       "4   2008        WD         Normal     250000  \n",
       "\n",
       "[5 rows x 81 columns]"
      ]
     },
     "execution_count": 2,
     "metadata": {},
     "output_type": "execute_result"
    }
   ],
   "source": [
    "df = pd.read_csv(\"house_prices.csv\")\n",
    "df.head()"
   ]
  },
  {
   "cell_type": "code",
   "execution_count": 3,
   "metadata": {},
   "outputs": [
    {
     "name": "stdout",
     "output_type": "stream",
     "text": [
      "(1095, 80) (365, 80) (1095,) (365,)\n"
     ]
    }
   ],
   "source": [
    "X = df.drop('SalePrice', axis=1)\n",
    "y = df.SalePrice\n",
    "\n",
    "X_train, X_test, y_train, y_test = train_test_split(X, y, test_size=.25,\n",
    "                                                      random_state=0)\n",
    "print(X_train.shape, X_test.shape, y_train.shape, y_test.shape)\n"
   ]
  },
  {
   "cell_type": "code",
   "execution_count": 4,
   "metadata": {},
   "outputs": [
    {
     "data": {
      "text/html": [
       "<div>\n",
       "<style scoped>\n",
       "    .dataframe tbody tr th:only-of-type {\n",
       "        vertical-align: middle;\n",
       "    }\n",
       "\n",
       "    .dataframe tbody tr th {\n",
       "        vertical-align: top;\n",
       "    }\n",
       "\n",
       "    .dataframe thead th {\n",
       "        text-align: right;\n",
       "    }\n",
       "</style>\n",
       "<table border=\"1\" class=\"dataframe\">\n",
       "  <thead>\n",
       "    <tr style=\"text-align: right;\">\n",
       "      <th></th>\n",
       "      <th>count</th>\n",
       "      <th>mean</th>\n",
       "      <th>std</th>\n",
       "      <th>min</th>\n",
       "      <th>25%</th>\n",
       "      <th>50%</th>\n",
       "      <th>75%</th>\n",
       "      <th>max</th>\n",
       "    </tr>\n",
       "  </thead>\n",
       "  <tbody>\n",
       "    <tr>\n",
       "      <th>Id</th>\n",
       "      <td>1095.0</td>\n",
       "      <td>733.713242</td>\n",
       "      <td>421.940022</td>\n",
       "      <td>1.0</td>\n",
       "      <td>366.50</td>\n",
       "      <td>747.0</td>\n",
       "      <td>1099.5</td>\n",
       "      <td>1460.0</td>\n",
       "    </tr>\n",
       "    <tr>\n",
       "      <th>MSSubClass</th>\n",
       "      <td>1095.0</td>\n",
       "      <td>56.602740</td>\n",
       "      <td>42.201335</td>\n",
       "      <td>20.0</td>\n",
       "      <td>20.00</td>\n",
       "      <td>50.0</td>\n",
       "      <td>70.0</td>\n",
       "      <td>190.0</td>\n",
       "    </tr>\n",
       "    <tr>\n",
       "      <th>LotFrontage</th>\n",
       "      <td>896.0</td>\n",
       "      <td>69.764509</td>\n",
       "      <td>23.116448</td>\n",
       "      <td>21.0</td>\n",
       "      <td>58.75</td>\n",
       "      <td>69.5</td>\n",
       "      <td>80.0</td>\n",
       "      <td>313.0</td>\n",
       "    </tr>\n",
       "    <tr>\n",
       "      <th>LotArea</th>\n",
       "      <td>1095.0</td>\n",
       "      <td>10554.273973</td>\n",
       "      <td>10059.063819</td>\n",
       "      <td>1300.0</td>\n",
       "      <td>7734.00</td>\n",
       "      <td>9531.0</td>\n",
       "      <td>11592.0</td>\n",
       "      <td>215245.0</td>\n",
       "    </tr>\n",
       "    <tr>\n",
       "      <th>OverallQual</th>\n",
       "      <td>1095.0</td>\n",
       "      <td>6.071233</td>\n",
       "      <td>1.363015</td>\n",
       "      <td>1.0</td>\n",
       "      <td>5.00</td>\n",
       "      <td>6.0</td>\n",
       "      <td>7.0</td>\n",
       "      <td>10.0</td>\n",
       "    </tr>\n",
       "  </tbody>\n",
       "</table>\n",
       "</div>"
      ],
      "text/plain": [
       "              count          mean           std     min      25%     50%  \\\n",
       "Id           1095.0    733.713242    421.940022     1.0   366.50   747.0   \n",
       "MSSubClass   1095.0     56.602740     42.201335    20.0    20.00    50.0   \n",
       "LotFrontage   896.0     69.764509     23.116448    21.0    58.75    69.5   \n",
       "LotArea      1095.0  10554.273973  10059.063819  1300.0  7734.00  9531.0   \n",
       "OverallQual  1095.0      6.071233      1.363015     1.0     5.00     6.0   \n",
       "\n",
       "                 75%       max  \n",
       "Id            1099.5    1460.0  \n",
       "MSSubClass      70.0     190.0  \n",
       "LotFrontage     80.0     313.0  \n",
       "LotArea      11592.0  215245.0  \n",
       "OverallQual      7.0      10.0  "
      ]
     },
     "execution_count": 4,
     "metadata": {},
     "output_type": "execute_result"
    }
   ],
   "source": [
    "X_train.describe().T.iloc[:5]\n"
   ]
  },
  {
   "cell_type": "code",
   "execution_count": 6,
   "metadata": {},
   "outputs": [
    {
     "data": {
      "text/html": [
       "<div>\n",
       "<style scoped>\n",
       "    .dataframe tbody tr th:only-of-type {\n",
       "        vertical-align: middle;\n",
       "    }\n",
       "\n",
       "    .dataframe tbody tr th {\n",
       "        vertical-align: top;\n",
       "    }\n",
       "\n",
       "    .dataframe thead th {\n",
       "        text-align: right;\n",
       "    }\n",
       "</style>\n",
       "<table border=\"1\" class=\"dataframe\">\n",
       "  <thead>\n",
       "    <tr style=\"text-align: right;\">\n",
       "      <th></th>\n",
       "      <th>count</th>\n",
       "      <th>unique</th>\n",
       "      <th>top</th>\n",
       "      <th>freq</th>\n",
       "    </tr>\n",
       "  </thead>\n",
       "  <tbody>\n",
       "    <tr>\n",
       "      <th>MSZoning</th>\n",
       "      <td>1095</td>\n",
       "      <td>5</td>\n",
       "      <td>RL</td>\n",
       "      <td>873</td>\n",
       "    </tr>\n",
       "    <tr>\n",
       "      <th>Street</th>\n",
       "      <td>1095</td>\n",
       "      <td>2</td>\n",
       "      <td>Pave</td>\n",
       "      <td>1090</td>\n",
       "    </tr>\n",
       "    <tr>\n",
       "      <th>Alley</th>\n",
       "      <td>65</td>\n",
       "      <td>2</td>\n",
       "      <td>Grvl</td>\n",
       "      <td>33</td>\n",
       "    </tr>\n",
       "    <tr>\n",
       "      <th>LotShape</th>\n",
       "      <td>1095</td>\n",
       "      <td>4</td>\n",
       "      <td>Reg</td>\n",
       "      <td>688</td>\n",
       "    </tr>\n",
       "    <tr>\n",
       "      <th>LandContour</th>\n",
       "      <td>1095</td>\n",
       "      <td>4</td>\n",
       "      <td>Lvl</td>\n",
       "      <td>991</td>\n",
       "    </tr>\n",
       "  </tbody>\n",
       "</table>\n",
       "</div>"
      ],
      "text/plain": [
       "            count unique   top  freq\n",
       "MSZoning     1095      5    RL   873\n",
       "Street       1095      2  Pave  1090\n",
       "Alley          65      2  Grvl    33\n",
       "LotShape     1095      4   Reg   688\n",
       "LandContour  1095      4   Lvl   991"
      ]
     },
     "execution_count": 6,
     "metadata": {},
     "output_type": "execute_result"
    }
   ],
   "source": [
    "X_train.describe(include=object).T.iloc[:5]  # All object cols\n"
   ]
  },
  {
   "cell_type": "code",
   "execution_count": 5,
   "metadata": {},
   "outputs": [
    {
     "data": {
      "text/plain": [
       "((19,),\n",
       " LotFrontage      199\n",
       " Alley           1030\n",
       " MasVnrType         5\n",
       " MasVnrArea         5\n",
       " BsmtQual          25\n",
       " BsmtCond          25\n",
       " BsmtExposure      25\n",
       " BsmtFinType1      25\n",
       " BsmtFinType2      26\n",
       " Electrical         1\n",
       " FireplaceQu      521\n",
       " GarageType        56\n",
       " GarageYrBlt       56\n",
       " GarageFinish      56\n",
       " GarageQual        56\n",
       " GarageCond        56\n",
       " PoolQC          1091\n",
       " Fence            896\n",
       " MiscFeature     1048\n",
       " dtype: int64)"
      ]
     },
     "execution_count": 5,
     "metadata": {},
     "output_type": "execute_result"
    }
   ],
   "source": [
    "above_0_missing = X_train.isnull().sum() > 0\n",
    "missing = X_train.isnull().sum()[above_0_missing]\n",
    "missing.shape,missing"
   ]
  },
  {
   "cell_type": "markdown",
   "metadata": {},
   "source": [
    "19 features have NaNs"
   ]
  },
  {
   "cell_type": "markdown",
   "metadata": {},
   "source": [
    "#### 2. Define numerical and categorical features."
   ]
  },
  {
   "cell_type": "code",
   "execution_count": 7,
   "metadata": {},
   "outputs": [
    {
     "name": "stdout",
     "output_type": "stream",
     "text": [
      "There are 37 numerical features: \n",
      "\n",
      "['Id', 'MSSubClass', 'LotFrontage', 'LotArea', 'OverallQual', 'OverallCond', 'YearBuilt', 'YearRemodAdd', 'MasVnrArea', 'BsmtFinSF1', 'BsmtFinSF2', 'BsmtUnfSF', 'TotalBsmtSF', '1stFlrSF', '2ndFlrSF', 'LowQualFinSF', 'GrLivArea', 'BsmtFullBath', 'BsmtHalfBath', 'FullBath', 'HalfBath', 'BedroomAbvGr', 'KitchenAbvGr', 'TotRmsAbvGrd', 'Fireplaces', 'GarageYrBlt', 'GarageCars', 'GarageArea', 'WoodDeckSF', 'OpenPorchSF', 'EnclosedPorch', '3SsnPorch', 'ScreenPorch', 'PoolArea', 'MiscVal', 'MoSold', 'YrSold']\n"
     ]
    }
   ],
   "source": [
    "numerical_features = X_train.select_dtypes(include='number').columns.tolist()\n",
    "\n",
    "print(f'There are {len(numerical_features)} numerical features:', '\\n')\n",
    "print(numerical_features)"
   ]
  },
  {
   "cell_type": "code",
   "execution_count": 8,
   "metadata": {},
   "outputs": [
    {
     "name": "stdout",
     "output_type": "stream",
     "text": [
      "There are 43 categorical features: \n",
      "\n",
      "['MSZoning', 'Street', 'Alley', 'LotShape', 'LandContour', 'Utilities', 'LotConfig', 'LandSlope', 'Neighborhood', 'Condition1', 'Condition2', 'BldgType', 'HouseStyle', 'RoofStyle', 'RoofMatl', 'Exterior1st', 'Exterior2nd', 'MasVnrType', 'ExterQual', 'ExterCond', 'Foundation', 'BsmtQual', 'BsmtCond', 'BsmtExposure', 'BsmtFinType1', 'BsmtFinType2', 'Heating', 'HeatingQC', 'CentralAir', 'Electrical', 'KitchenQual', 'Functional', 'FireplaceQu', 'GarageType', 'GarageFinish', 'GarageQual', 'GarageCond', 'PavedDrive', 'PoolQC', 'Fence', 'MiscFeature', 'SaleType', 'SaleCondition']\n"
     ]
    }
   ],
   "source": [
    "categorical_features = X_train.select_dtypes(exclude='number').columns.tolist()\n",
    "\n",
    "print(f'There are {len(categorical_features)} categorical features:', '\\n')\n",
    "print(categorical_features)"
   ]
  },
  {
   "cell_type": "markdown",
   "metadata": {},
   "source": [
    "#### 3. PipeLine 1: For categorical features: fill missing values then label encode"
   ]
  },
  {
   "cell_type": "markdown",
   "metadata": {},
   "source": [
    "For categoricals, we will use `SimpleImputer` to fill the missing values with the `mode`(value that appears most often) of each column. And then convert the categorical columns to numerical columns using `OneHotEncoder`."
   ]
  },
  {
   "cell_type": "code",
   "execution_count": 9,
   "metadata": {},
   "outputs": [],
   "source": [
    "categorical_pipeline = Pipeline(steps=[\n",
    "    # 1. fill missing values with the most frequent value in the column\n",
    "    ('impute', SimpleImputer(strategy='most_frequent')),\n",
    "    # 2. convert categorical features to numerical\n",
    "    ('one-hot', OneHotEncoder(handle_unknown='ignore', sparse=False))\n",
    "])\n"
   ]
  },
  {
   "cell_type": "markdown",
   "metadata": {},
   "source": [
    "> Set `handle_unknown` to `ignore` to skip previously unseen labels. Otherwise, `OneHotEncoder` throws an error if there are labels in test set that are not in train set."
   ]
  },
  {
   "cell_type": "markdown",
   "metadata": {},
   "source": [
    "#### 4. PipeLine 2: For numerical features: fill missing values then feature scale"
   ]
  },
  {
   "cell_type": "markdown",
   "metadata": {},
   "source": [
    "For numeric columns, we first fill the missing values with `SimpleImputer` using the `mean` and feature scale using `MinMaxScaler`."
   ]
  },
  {
   "cell_type": "code",
   "execution_count": 10,
   "metadata": {},
   "outputs": [],
   "source": [
    "numeric_pipeline = Pipeline(steps=[\n",
    "    # 1. fill missing values with the median value in the column\n",
    "    ('impute', SimpleImputer(strategy='mean')),\n",
    "    # 2. scale the values to a range of 0 to 1\n",
    "    ('scale', MinMaxScaler())\n",
    "])\n"
   ]
  },
  {
   "cell_type": "markdown",
   "metadata": {},
   "source": [
    "#### 5. Combine numerical and categorical transformer using `ColumnTransformer`."
   ]
  },
  {
   "cell_type": "markdown",
   "metadata": {},
   "source": [
    "It is very common to want to perform different data preparation techniques on different columns in your input data.\n",
    "\n",
    "For example, you may want to impute missing numerical values with a median value, then scale the values and impute missing categorical values using the most frequent value and one hot encode the categories.\n",
    "\n",
    "Traditionally, this would require you to separate the numerical and categorical data and then manually apply the transforms on those groups of features before combining the columns back together in order to fit and evaluate a model.\n",
    "\n",
    "Now, you can use the ColumnTransformer to perform this operation for you.\n",
    "\n",
    "🚀 `ColumnTransformer` helps to define different transformers for different types of inputs and combine them into a single feature space after transformation. Here we are applying numerical transformer and categorical transformer created above for our numerical and categorical features."
   ]
  },
  {
   "cell_type": "code",
   "execution_count": 11,
   "metadata": {},
   "outputs": [],
   "source": [
    "data_transformers = ColumnTransformer(transformers=[\n",
    "    # use `numeric_pipeline` for transformations on the `numerical_features`\n",
    "    ('number', numeric_pipeline, numerical_features),\n",
    "    # use `categorical_pipeline` for transformations on the `categorical_features`\n",
    "    ('category', categorical_pipeline, categorical_features)\n",
    "])\n"
   ]
  },
  {
   "cell_type": "markdown",
   "metadata": {},
   "source": [
    "> Remember that `numerical_features` and `categorical_features` contain the respective names of columns from `X_train`."
   ]
  },
  {
   "cell_type": "markdown",
   "metadata": {},
   "source": [
    "Similar to `Pipeline` class, `ColumnTransformer` takes a tuple of transformers. Each tuple `(\"step_name\",transformer,columns)`should contain an arbitrary step name, the transformer itself and the list of column names that the transformer should be applied to . Here, we are creating a column transformer with 2 steps using both of our numeric and categorical preprocessing pipelines"
   ]
  },
  {
   "cell_type": "markdown",
   "metadata": {},
   "source": [
    "#### 6. (optional) Apply PCA to reduce dimensions."
   ]
  },
  {
   "cell_type": "markdown",
   "metadata": {},
   "source": [
    "Principle Component Analysis aka PCA is a linear dimensionality reduction algorithm that is used to reduce the number of features in the dataset by keeping the maximum variance."
   ]
  },
  {
   "cell_type": "code",
   "execution_count": 12,
   "metadata": {},
   "outputs": [],
   "source": [
    "#  Creating preprocessor pipeline which will first transform the data\n",
    "# and then apply PCA.\n",
    "preprocessor = Pipeline(steps=[('data_transformers', data_transformers),\n",
    "                             ('reduce_dim',PCA())])"
   ]
  },
  {
   "cell_type": "markdown",
   "metadata": {},
   "source": [
    "#### 7. Final Pipeline With an Estimator"
   ]
  },
  {
   "cell_type": "code",
   "execution_count": 13,
   "metadata": {},
   "outputs": [],
   "source": [
    "model = Pipeline(steps=[('preprocessor', preprocessor),\n",
    "                      ('model', RandomForestRegressor())])"
   ]
  },
  {
   "cell_type": "code",
   "execution_count": 14,
   "metadata": {},
   "outputs": [
    {
     "data": {
      "text/plain": [
       "0.6631921072752525"
      ]
     },
     "execution_count": 14,
     "metadata": {},
     "output_type": "execute_result"
    }
   ],
   "source": [
    "model.fit(X_train, y_train)\n",
    "model.score(X_test, y_test)"
   ]
  },
  {
   "cell_type": "code",
   "execution_count": 31,
   "metadata": {},
   "outputs": [
    {
     "name": "stdout",
     "output_type": "stream",
     "text": [
      "LinearRegression()\n",
      "model score: -486929079683966379753472.00%\n",
      "Lasso()\n",
      "model score: 55.11%\n",
      "RandomForestRegressor()\n",
      "model score: 65.00%\n",
      "SGDRegressor()\n",
      "model score: 73.26%\n",
      "Ridge()\n",
      "model score: 70.13%\n",
      "RidgeCV(alphas=array([ 0.1,  1. , 10. ]))\n",
      "model score: 70.13%\n",
      "LinearSVC()\n",
      "model score: 1.10%\n",
      "LinearSVC()\n",
      "model score: 1.10%\n",
      "ElasticNetCV()\n",
      "model score: 2.63%\n"
     ]
    }
   ],
   "source": [
    "from sklearn.linear_model import LinearRegression,Lasso,SGDRegressor,Ridge,RidgeCV,ElasticNetCV\n",
    "from sklearn.svm  import LinearSVC,LinearSVR\n",
    "from sklearn.ensemble import RandomForestRegressor\n",
    "models = [\n",
    "    LinearRegression(),\n",
    "\tLasso(),\n",
    "\tRandomForestRegressor(),\n",
    "    SGDRegressor(),\n",
    "    Ridge(),\n",
    "    RidgeCV(),\n",
    "    LinearSVC(),\n",
    "    LinearSVC(),\n",
    "    ElasticNetCV()\n",
    "    ]\n",
    "    \n",
    "for model in models:\n",
    "    pipe = Pipeline(steps=[('preprocessor', preprocessor),\n",
    "                      ('model', model)])\n",
    "    pipe.fit(X_train, y_train)   \n",
    "    print(model)\n",
    "    print(f\"model score: {pipe.score(X_test, y_test)*100:.2f}%\" )"
   ]
  },
  {
   "cell_type": "markdown",
   "metadata": {},
   "source": [
    "#### Visualizing Pipeline"
   ]
  },
  {
   "cell_type": "code",
   "execution_count": 19,
   "metadata": {},
   "outputs": [],
   "source": [
    "# imports \n",
    "from sklearn import set_config                      # to change the display\n",
    "from sklearn.utils import estimator_html_repr       # to save the diagram into HTML format\n",
    "\n",
    "# set config to diagram for visualizing the pipelines/composite estimators\n",
    "set_config(display='diagram')\n",
    "\n",
    "model"
   ]
  },
  {
   "cell_type": "markdown",
   "metadata": {},
   "source": [
    "#### 🚀All In One"
   ]
  },
  {
   "cell_type": "code",
   "execution_count": 30,
   "metadata": {},
   "outputs": [
    {
     "name": "stdout",
     "output_type": "stream",
     "text": [
      "(1095, 80) (365, 80) (1095,) (365,)\n"
     ]
    },
    {
     "data": {
      "text/plain": [
       "0.5815383582285798"
      ]
     },
     "execution_count": 30,
     "metadata": {},
     "output_type": "execute_result"
    }
   ],
   "source": [
    "# getting data ready\n",
    "import pandas as pd\n",
    "from sklearn.compose import ColumnTransformer\n",
    "from sklearn.preprocessing import OneHotEncoder, MinMaxScaler,StandardScaler\n",
    "from sklearn.impute import SimpleImputer\n",
    "from sklearn.pipeline import Pipeline\n",
    "from sklearn.decomposition import PCA\n",
    "\n",
    "# modelling\n",
    "from sklearn.model_selection import train_test_split\n",
    "from sklearn.ensemble import RandomForestClassifier, RandomForestRegressor\n",
    "\n",
    "# setup random seed for reproducibility\n",
    "import numpy as np\n",
    "np.random.seed(42)\n",
    "\n",
    "\n",
    "df = pd.read_csv(\"house_prices.csv\")\n",
    "\n",
    "# 1. Prepare the data\n",
    "X = df.drop('SalePrice', axis=1)\n",
    "y = df.SalePrice\n",
    "\n",
    "X_train, X_test, y_train, y_test = train_test_split(X, y, test_size=.25,\n",
    "                                                      random_state=0)\n",
    "print(X_train.shape, X_test.shape, y_train.shape, y_test.shape)\n",
    "\n",
    "#### 2. Define numerical and categorical features.\n",
    "numerical_features = X_train.select_dtypes(include='number').columns.tolist()\n",
    "categorical_features = X_train.select_dtypes(exclude='number').columns.tolist()\n",
    "\n",
    "\n",
    "#### 3. PipeLine 1: For categorical features: fill missing values then label encode\n",
    "categorical_pipeline = Pipeline(steps=[\n",
    "    ('cat_imputer', SimpleImputer(strategy='most_frequent')),\n",
    "    ('one-hot', OneHotEncoder(handle_unknown='ignore', sparse=False))\n",
    "])\n",
    "\n",
    "#### 4. PipeLine 2: For numerical features: fill missing values then feature scale\n",
    "numeric_pipeline = Pipeline(steps=[\n",
    "    ('num_imputer', SimpleImputer(strategy='mean')),\n",
    "    ('scale', MinMaxScaler())\n",
    "])\n",
    "\n",
    "#### 5. Combine numerical and categorical transformer using `ColumnTransformer`.\n",
    "data_transformers = ColumnTransformer(transformers=[\n",
    "    ('number_trans', numeric_pipeline, numerical_features),\n",
    "    ('category_trans', categorical_pipeline, categorical_features)\n",
    "])\n",
    "\n",
    "#### 6. (optional) Apply PCA to reduce dimensions.\n",
    "preprocessor = Pipeline(steps=[('data_transformers', data_transformers),\n",
    "                             ('reduce_dim',PCA())])\n",
    "                             \n",
    "#### 7. Final Pipeline With an Estimator\n",
    "regr = RandomForestRegressor(max_depth=2, random_state=0)\n",
    "\n",
    "regr_pipeline = Pipeline(steps=[\n",
    "    ('preprocess', preprocessor),\n",
    "    ('model', regr)\n",
    "])\n",
    "\n",
    "regr_pipeline.fit(X_train, y_train)\n",
    "regr_pipeline.score(X_test, y_test)\n"
   ]
  },
  {
   "cell_type": "markdown",
   "metadata": {},
   "source": [
    "### 🥈V2: Pipelining + GridSearchCV (Single Model Hyperparameter Tuning)"
   ]
  },
  {
   "cell_type": "markdown",
   "metadata": {},
   "source": [
    "When creating a parameter grid for the model in the pipeline, the model’s name needs to be appended to each parameter. For example in the code block below, `'classifier__'` have been appended to match the name of the model in the pipeline (named the model `‘classifier’` in the pipeline).\n",
    "\n",
    "```python\n",
    "#Creating parameter grid for Random Forest\n",
    "rand_forest_parms = {'classifier__n_estimators': [100, 300, 500],\n",
    "                     'classifier__max_depth':[6, 25, 50, 70],\n",
    "                     'classifier__min_samples_split': [2, 5, 10],\n",
    "                     'classifier__min_samples_leaf': [1, 2, 10]}\n",
    "#Calling the grid_search function using the parameters above\n",
    "grid_search(RandomForestClassifier(), rand_forest_parms)\n",
    "```\n"
   ]
  },
  {
   "cell_type": "code",
   "execution_count": 2,
   "metadata": {},
   "outputs": [
    {
     "name": "stdout",
     "output_type": "stream",
     "text": [
      "(712, 8) (179, 8) (712,) (179,)\n",
      "Best Score: 0.7985714285714287\n",
      "Best Hyperparameters: {'classifier__max_depth': 3, 'classifier__max_features': 'sqrt', 'classifier__n_estimators': 200}\n"
     ]
    }
   ],
   "source": [
    "# getting data ready\n",
    "import pandas as pd\n",
    "from sklearn.compose import ColumnTransformer\n",
    "from sklearn.preprocessing import OneHotEncoder, MinMaxScaler,StandardScaler\n",
    "from sklearn.impute import SimpleImputer\n",
    "from sklearn.pipeline import Pipeline\n",
    "from sklearn.decomposition import PCA\n",
    "\n",
    "\n",
    "# modelling\n",
    "from sklearn.linear_model import Ridge\n",
    "from sklearn.model_selection import train_test_split\n",
    "from sklearn.ensemble import RandomForestClassifier\n",
    "from sklearn.model_selection import RepeatedKFold\n",
    "from sklearn.model_selection import GridSearchCV\n",
    "\n",
    "# setup random seed for reproducibility\n",
    "import numpy as np\n",
    "np.random.seed(42)\n",
    "\n",
    "\n",
    "df = pd.read_csv(\"titanic.csv\")\n",
    "X = df.drop(['Survived', 'Name', 'Ticket','Cabin'], axis=1)\n",
    "y = df['Survived']\n",
    "\n",
    "X_train, X_test, y_train, y_test = train_test_split(X, y, test_size=0.2, random_state=0)\n",
    "print(X_train.shape, X_test.shape, y_train.shape, y_test.shape)\n",
    "\n",
    "\n",
    "\n",
    "#### 2. Define numerical and categorical features.\n",
    "numerical_features = X_train.select_dtypes(include='number').columns.tolist()\n",
    "categorical_features = X_train.select_dtypes(exclude='number').columns.tolist()\n",
    "\n",
    "\n",
    "#### 3. PipeLine 1: For categorical features: fill missing values then label encode\n",
    "categorical_pipeline = Pipeline(steps=[\n",
    "    ('cat_imputer', SimpleImputer(strategy='most_frequent')),\n",
    "    ('one-hot', OneHotEncoder(handle_unknown='ignore', sparse=False))\n",
    "])\n",
    "\n",
    "#### 4. PipeLine 2: For numerical features: fill missing values then feature scale\n",
    "numeric_pipeline = Pipeline(steps=[\n",
    "    ('num_imputer', SimpleImputer(strategy='mean')),\n",
    "    ('scale', MinMaxScaler())\n",
    "])\n",
    "\n",
    "#### 5. Combine numerical and categorical transformer using `ColumnTransformer`.\n",
    "data_transformers = ColumnTransformer(transformers=[\n",
    "    ('number_trans', numeric_pipeline, numerical_features),\n",
    "    ('category_trans', categorical_pipeline, categorical_features)\n",
    "])\n",
    "\n",
    "#### 6. (optional) Apply PCA to reduce dimensions.\n",
    "preprocessor = Pipeline(steps=[('data_transformers', data_transformers),\n",
    "                             ('reduce_dim',PCA())])\n",
    "                             \n",
    "#### 7. GridSearchCV\n",
    "\n",
    "# define model\n",
    "model1 = RandomForestClassifier()\n",
    "# define evaluation\n",
    "cv = RepeatedKFold(n_splits=5, n_repeats=2, random_state=1)\n",
    "# define parameters\n",
    "# `classifier__` prefix is mandatory when pipeline is used\n",
    "param = {\n",
    "    \"classifier__max_features\": [None,'sqrt'],\n",
    "    \"classifier__max_depth\": [2, 3],\n",
    "    \"classifier__n_estimators\": [100, 200],\n",
    "}\n",
    "# define search\n",
    "search = GridSearchCV(\n",
    "    Pipeline(steps=[\n",
    "        ('preprocess', preprocessor),\n",
    "        ('classifier', model1)\n",
    "    ]), \n",
    "    param, \n",
    "    n_jobs=-1, \n",
    "    cv=cv\n",
    ")\n",
    "\n",
    "# execute search\n",
    "result = search.fit(X_test, y_test)\n",
    "# summarize result\n",
    "print(f'Best Score: {result.best_score_}')\n",
    "print(f'Best Hyperparameters: {result.best_params_}')"
   ]
  },
  {
   "cell_type": "markdown",
   "metadata": {},
   "source": [
    "### 🥇V3: Pipelining + GridSearchCV (Multi Models Hyperparameter Tuning) 🔥"
   ]
  },
  {
   "cell_type": "code",
   "execution_count": 36,
   "metadata": {},
   "outputs": [
    {
     "name": "stdout",
     "output_type": "stream",
     "text": [
      "(712, 8) (179, 8) (712,) (179,)\n",
      "Running Model:\n"
     ]
    },
    {
     "data": {
      "application/vnd.jupyter.widget-view+json": {
       "model_id": "26bfeb89fb674db3bfefc99b0f3a4bb8",
       "version_major": 2,
       "version_minor": 0
      },
      "text/plain": [
       "  0%|          | 0/6 [00:00<?, ?it/s]"
      ]
     },
     "metadata": {},
     "output_type": "display_data"
    },
    {
     "data": {
      "text/html": [
       "<div>\n",
       "<style scoped>\n",
       "    .dataframe tbody tr th:only-of-type {\n",
       "        vertical-align: middle;\n",
       "    }\n",
       "\n",
       "    .dataframe tbody tr th {\n",
       "        vertical-align: top;\n",
       "    }\n",
       "\n",
       "    .dataframe thead th {\n",
       "        text-align: right;\n",
       "    }\n",
       "</style>\n",
       "<table border=\"1\" class=\"dataframe\">\n",
       "  <thead>\n",
       "    <tr style=\"text-align: right;\">\n",
       "      <th></th>\n",
       "      <th>model</th>\n",
       "      <th>training_best_score</th>\n",
       "      <th>test_best_score</th>\n",
       "      <th>best_params</th>\n",
       "    </tr>\n",
       "  </thead>\n",
       "  <tbody>\n",
       "    <tr>\n",
       "      <th>0</th>\n",
       "      <td>KNeighbors</td>\n",
       "      <td>0.783709</td>\n",
       "      <td>0.810056</td>\n",
       "      <td>{'classifier__leaf_size': 25, 'classifier__n_neighbors': 4, 'classifier__weights': 'uniform'}</td>\n",
       "    </tr>\n",
       "    <tr>\n",
       "      <th>1</th>\n",
       "      <td>DecisionTree</td>\n",
       "      <td>0.740855</td>\n",
       "      <td>0.731844</td>\n",
       "      <td>{'classifier__criterion': 'entropy', 'classifier__max_depth': None, 'classifier__max_features': None, 'classifier__random_state': 42, 'classifier__splitter': 'best'}</td>\n",
       "    </tr>\n",
       "    <tr>\n",
       "      <th>2</th>\n",
       "      <td>SVC</td>\n",
       "      <td>0.791431</td>\n",
       "      <td>0.798883</td>\n",
       "      <td>{'classifier__fit_intercept': True, 'classifier__loss': 'squared_hinge', 'classifier__max_iter': 900, 'classifier__multi_class': 'ovr', 'classifier__random_state': 42}</td>\n",
       "    </tr>\n",
       "    <tr>\n",
       "      <th>3</th>\n",
       "      <td>SVM</td>\n",
       "      <td>0.814607</td>\n",
       "      <td>0.821229</td>\n",
       "      <td>{'classifier__C': 1000, 'classifier__gamma': 0.1, 'classifier__kernel': 'rbf'}</td>\n",
       "    </tr>\n",
       "    <tr>\n",
       "      <th>4</th>\n",
       "      <td>RandomForest</td>\n",
       "      <td>0.792116</td>\n",
       "      <td>0.826816</td>\n",
       "      <td>{'classifier__bootstrap': True, 'classifier__criterion': 'gini', 'classifier__max_depth': 85, 'classifier__max_features': 'sqrt', 'classifier__n_estimators': 90, 'classifier__random_state': 42}</td>\n",
       "    </tr>\n",
       "    <tr>\n",
       "      <th>5</th>\n",
       "      <td>SGDClassifier</td>\n",
       "      <td>0.792835</td>\n",
       "      <td>0.826816</td>\n",
       "      <td>{'classifier__alpha': 0.001, 'classifier__early_stopping': True, 'classifier__loss': 'log_loss', 'classifier__max_iter': 1000, 'classifier__penalty': 'l1', 'classifier__random_state': 42}</td>\n",
       "    </tr>\n",
       "  </tbody>\n",
       "</table>\n",
       "</div>"
      ],
      "text/plain": [
       "           model  training_best_score  test_best_score                                                                                                                                                                                        best_params\n",
       "0     KNeighbors             0.783709         0.810056                                                                                                      {'classifier__leaf_size': 25, 'classifier__n_neighbors': 4, 'classifier__weights': 'uniform'}\n",
       "1   DecisionTree             0.740855         0.731844                              {'classifier__criterion': 'entropy', 'classifier__max_depth': None, 'classifier__max_features': None, 'classifier__random_state': 42, 'classifier__splitter': 'best'}\n",
       "2            SVC             0.791431         0.798883                            {'classifier__fit_intercept': True, 'classifier__loss': 'squared_hinge', 'classifier__max_iter': 900, 'classifier__multi_class': 'ovr', 'classifier__random_state': 42}\n",
       "3            SVM             0.814607         0.821229                                                                                                                     {'classifier__C': 1000, 'classifier__gamma': 0.1, 'classifier__kernel': 'rbf'}\n",
       "4   RandomForest             0.792116         0.826816  {'classifier__bootstrap': True, 'classifier__criterion': 'gini', 'classifier__max_depth': 85, 'classifier__max_features': 'sqrt', 'classifier__n_estimators': 90, 'classifier__random_state': 42}\n",
       "5  SGDClassifier             0.792835         0.826816        {'classifier__alpha': 0.001, 'classifier__early_stopping': True, 'classifier__loss': 'log_loss', 'classifier__max_iter': 1000, 'classifier__penalty': 'l1', 'classifier__random_state': 42}"
      ]
     },
     "execution_count": 36,
     "metadata": {},
     "output_type": "execute_result"
    }
   ],
   "source": [
    "# setup random seed for reproducibility\n",
    "import numpy as np\n",
    "np.random.seed(42)\n",
    "import pandas as pd\n",
    "from tqdm.notebook import tqdm\n",
    "\n",
    "# getting data ready\n",
    "from sklearn.compose import ColumnTransformer\n",
    "from sklearn.preprocessing import OneHotEncoder, MinMaxScaler, StandardScaler\n",
    "from sklearn.impute import SimpleImputer\n",
    "from sklearn.pipeline import Pipeline\n",
    "from sklearn.decomposition import PCA\n",
    "from sklearn.model_selection import train_test_split\n",
    "\n",
    "# modelling\n",
    "from sklearn.model_selection import GridSearchCV                      \n",
    "from sklearn.ensemble import RandomForestClassifier\n",
    "from sklearn.svm import LinearSVC\n",
    "from sklearn import svm\n",
    "from sklearn.naive_bayes import MultinomialNB\n",
    "from sklearn.linear_model import SGDClassifier\n",
    "from sklearn.tree import DecisionTreeClassifier\n",
    "from sklearn.neighbors import KNeighborsClassifier\n",
    "from sklearn.model_selection import RepeatedKFold\n",
    "\n",
    "# matrics\n",
    "from sklearn.metrics import accuracy_score\n",
    "\n",
    "\n",
    "# ignore ConvergenceWarnings\n",
    "from  warnings import simplefilter\n",
    "from sklearn.exceptions import ConvergenceWarning\n",
    "simplefilter(\"ignore\", category=ConvergenceWarning)\n",
    "\n",
    "# 1. Get the data ready\n",
    "df = pd.read_csv(\"titanic.csv\")\n",
    "X = df.drop(['Survived', 'Name', 'Ticket','Cabin'], axis=1)\n",
    "y = df['Survived']\n",
    "\n",
    "X_train, X_test, y_train, y_test = train_test_split(X, y, test_size=0.2, random_state=0)\n",
    "print(X_train.shape, X_test.shape, y_train.shape, y_test.shape)\n",
    "\n",
    "#### 2. Define numerical and categorical features.\n",
    "numerical_features = X_train.select_dtypes(include='number').columns.tolist()\n",
    "categorical_features = X_train.select_dtypes(exclude='number').columns.tolist()\n",
    "\n",
    "\n",
    "#### 3. PipeLine 1: For categorical features: fill missing values then label encode\n",
    "categorical_pipeline = Pipeline(steps=[\n",
    "    ('cat_imputer', SimpleImputer(strategy='most_frequent')),\n",
    "    ('one-hot', OneHotEncoder(handle_unknown='ignore', sparse=False))\n",
    "])\n",
    "\n",
    "#### 4. PipeLine 2: For numerical features: fill missing values then feature scale\n",
    "numeric_pipeline = Pipeline(steps=[\n",
    "    ('num_imputer', SimpleImputer(strategy='mean')),\n",
    "    ('scale', MinMaxScaler())\n",
    "])\n",
    "\n",
    "#### 5. Combine numerical and categorical transformer using `ColumnTransformer`.\n",
    "data_transformers = ColumnTransformer(transformers=[\n",
    "    ('number_trans', numeric_pipeline, numerical_features),\n",
    "    ('category_trans', categorical_pipeline, categorical_features)\n",
    "])\n",
    "\n",
    "#### 6. (optional) Apply PCA to reduce dimensions.\n",
    "preprocessor = Pipeline(steps=[('data_transformers', data_transformers),\n",
    "                             ('reduce_dim',PCA())])\n",
    "                             \n",
    "##### 7. GridSearchCV\n",
    "models = [\n",
    "    { \"model_instance\": KNeighborsClassifier(),\n",
    "      \"model_name\": \"KNeighbors\",\n",
    "      \"params\": {\n",
    "          \"classifier__n_neighbors\": range(3,5),\n",
    "          \"classifier__weights\": ['uniform','distance'],\n",
    "          \"classifier__leaf_size\": [25,30,35]\n",
    "        }\n",
    "    },\n",
    "    { \"model_instance\": DecisionTreeClassifier(),\n",
    "      \"model_name\": \"DecisionTree\",\n",
    "      \"params\": {\n",
    "          \"classifier__criterion\": ['gini','entropy'],\n",
    "          \"classifier__splitter\": ['best','random'],\n",
    "          \"classifier__max_depth\": [None,90,95,100],\n",
    "          \"classifier__max_features\": [None,\"sqrt\",\"log2\"],\n",
    "          \"classifier__random_state\": [42]\n",
    "      }\n",
    "    },\n",
    "    { \"model_instance\": LinearSVC(),\n",
    "      \"model_name\": \"SVC\",\n",
    "      \"params\": {\n",
    "          \"classifier__loss\": ['hinge','squared_hinge'],\n",
    "          \"classifier__multi_class\": ['ovr', 'crammer_singer'],\n",
    "          \"classifier__fit_intercept\": [True, False],\n",
    "          \"classifier__random_state\": [42],\n",
    "          \"classifier__max_iter\": [900, 1000, 1100]\n",
    "      }\n",
    "    },\n",
    "    { \"model_instance\": svm.SVC(),\n",
    "      \"model_name\": \"SVM\",\n",
    "      \"params\": {\n",
    "          'classifier__C': [0.1,1, 10, 100, 1000], \n",
    "          'classifier__gamma': [1,0.1,0.01,0.001,0.0001], \n",
    "          'classifier__kernel': ['rbf']\n",
    "      }\n",
    "    },\n",
    "    { \"model_instance\": RandomForestClassifier(),\n",
    "      \"model_name\": \"RandomForest\",\n",
    "      \"params\": {\n",
    "      \"classifier__criterion\": ['gini','entropy'],\n",
    "      \"classifier__bootstrap\": [True, False],\n",
    "      \"classifier__max_depth\": [85,90,95,100],\n",
    "      \"classifier__max_features\": ['sqrt','log2'],\n",
    "      \"classifier__n_estimators\": [60, 80, 90],\n",
    "      \"classifier__random_state\": [42]\n",
    "      }\n",
    "    },\n",
    "    { \"model_instance\": SGDClassifier(),\n",
    "      \"model_name\": \"SGDClassifier\",\n",
    "      \"params\": {\n",
    "          \"classifier__loss\": ['hinge', 'log_loss', 'perceptron'],\n",
    "          \"classifier__penalty\": ['l2', 'l1'],\n",
    "          \"classifier__alpha\": [0.0001, 0.0003, 0.0010],\n",
    "          \"classifier__early_stopping\": [True],\n",
    "          \"classifier__max_iter\": [1000, 1500],\n",
    "          \"classifier__random_state\": [42]\n",
    "      }\n",
    "    }\n",
    "]\n",
    "\n",
    "\n",
    "scores = []\n",
    "highest_acc = 0\n",
    "best_model = None\n",
    "# Cross validation Strategy\n",
    "cv = RepeatedKFold(n_splits=5, n_repeats=2, random_state=1)\n",
    "\n",
    "print(\"Running Model:\")\n",
    "for _,model in enumerate(tqdm(models)):\n",
    "    # get model details\n",
    "    model_instance = model[\"model_instance\"]\n",
    "    model_name = model[\"model_name\"]\n",
    "    \n",
    "    # define grid search\n",
    "    grid = GridSearchCV(\n",
    "        Pipeline(steps=[\n",
    "        ('preprocess', preprocessor),\n",
    "        ('classifier', model_instance)\n",
    "    ]),param_grid=model[\"params\"],cv = cv, n_jobs = 1)\n",
    "    \n",
    "    grid.fit(X_train, y_train)\n",
    "    # get accuracy\n",
    "    # print(f'[{model_name}]Best mean cross-validation score: {grid.best_score_}')\n",
    "    # print(f'[{model_name}]Best Hyperparameters: {grid.best_params_}' )\n",
    "    acc = grid.score(X_test, y_test)\n",
    "    # print(f'[{model_name}]Test-set score: {acc}' )\n",
    "    \n",
    "    # acc = accuracy_score(predicted, y_test)\n",
    "    # check if highest accuracy\n",
    "    if acc > highest_acc:\n",
    "        highest_acc = acc\n",
    "        # save best model\n",
    "        best_model = grid\n",
    "    \n",
    "    # save model details\n",
    "    scores.append({\n",
    "        \"model\":model_name,\n",
    "        \"training_best_score\": grid.best_score_,\n",
    "        \"test_best_score\": acc,\n",
    "        \"best_params\": grid.best_params_\n",
    "      })    \n",
    "    \n",
    "    \n",
    "res_df = pd.DataFrame(scores)\n",
    "res_df\n"
   ]
  },
  {
   "cell_type": "code",
   "execution_count": 53,
   "metadata": {},
   "outputs": [
    {
     "name": "stdout",
     "output_type": "stream",
     "text": [
      "\n",
      "Best Model:RandomForestClassifier(max_depth=85, n_estimators=90, random_state=42)\n",
      "\n",
      "Best Model:Pipeline(steps=[('preprocess',\n",
      "                 Pipeline(steps=[('data_transformers',\n",
      "                                  ColumnTransformer(transformers=[('number_trans',\n",
      "                                                                   Pipeline(steps=[('num_imputer',\n",
      "                                                                                    SimpleImputer()),\n",
      "                                                                                   ('scale',\n",
      "                                                                                    MinMaxScaler())]),\n",
      "                                                                   ['PassengerId',\n",
      "                                                                    'Pclass',\n",
      "                                                                    'Age',\n",
      "                                                                    'SibSp',\n",
      "                                                                    'Parch',\n",
      "                                                                    'Fare']),\n",
      "                                                                  ('category_trans',\n",
      "                                                                   Pipeline(steps=[('cat_imputer',\n",
      "                                                                                    SimpleImputer(strategy='most_frequent')),\n",
      "                                                                                   ('one-hot',\n",
      "                                                                                    OneHotEncoder(handle_unknown='ignore',\n",
      "                                                                                                  sparse=False))]),\n",
      "                                                                   ['Sex',\n",
      "                                                                    'Embarked'])])),\n",
      "                                 ('reduce_dim', PCA())])),\n",
      "                ('classifier',\n",
      "                 RandomForestClassifier(max_depth=85, n_estimators=90,\n",
      "                                        random_state=42))])\n"
     ]
    }
   ],
   "source": [
    "print(f\"\\nBest Model:{best_model.best_estimator_['classifier']}\")\n",
    "print(f\"\\nBest Model:{best_model.best_estimator_}\")\n"
   ]
  },
  {
   "cell_type": "code",
   "execution_count": 54,
   "metadata": {},
   "outputs": [
    {
     "data": {
      "text/plain": [
       "0.8268156424581006"
      ]
     },
     "execution_count": 54,
     "metadata": {},
     "output_type": "execute_result"
    }
   ],
   "source": [
    "best_pipeline = best_model.best_estimator_\n",
    "best_pipeline.score(X_test, y_test)\n"
   ]
  },
  {
   "cell_type": "code",
   "execution_count": 10,
   "metadata": {},
   "outputs": [
    {
     "data": {
      "text/html": [
       "<div>\n",
       "<style scoped>\n",
       "    .dataframe tbody tr th:only-of-type {\n",
       "        vertical-align: middle;\n",
       "    }\n",
       "\n",
       "    .dataframe tbody tr th {\n",
       "        vertical-align: top;\n",
       "    }\n",
       "\n",
       "    .dataframe thead th {\n",
       "        text-align: right;\n",
       "    }\n",
       "</style>\n",
       "<table border=\"1\" class=\"dataframe\">\n",
       "  <thead>\n",
       "    <tr style=\"text-align: right;\">\n",
       "      <th></th>\n",
       "      <th>model</th>\n",
       "      <th>training_best_score</th>\n",
       "      <th>test_best_score</th>\n",
       "      <th>best_params</th>\n",
       "    </tr>\n",
       "  </thead>\n",
       "  <tbody>\n",
       "    <tr>\n",
       "      <th>0</th>\n",
       "      <td>RandomForest</td>\n",
       "      <td>0.792116</td>\n",
       "      <td>0.826816</td>\n",
       "      <td>{'classifier__max_depth': 85, 'classifier__max...</td>\n",
       "    </tr>\n",
       "    <tr>\n",
       "      <th>1</th>\n",
       "      <td>DecisionTree</td>\n",
       "      <td>0.740855</td>\n",
       "      <td>0.731844</td>\n",
       "      <td>{'classifier__criterion': 'entropy', 'classifi...</td>\n",
       "    </tr>\n",
       "  </tbody>\n",
       "</table>\n",
       "</div>"
      ],
      "text/plain": [
       "          model  training_best_score  test_best_score  \\\n",
       "0  RandomForest             0.792116         0.826816   \n",
       "1  DecisionTree             0.740855         0.731844   \n",
       "\n",
       "                                         best_params  \n",
       "0  {'classifier__max_depth': 85, 'classifier__max...  \n",
       "1  {'classifier__criterion': 'entropy', 'classifi...  "
      ]
     },
     "execution_count": 10,
     "metadata": {},
     "output_type": "execute_result"
    }
   ],
   "source": [
    "pd.DataFrame(scores)\n"
   ]
  },
  {
   "cell_type": "code",
   "execution_count": 28,
   "metadata": {},
   "outputs": [
    {
     "data": {
      "text/html": [
       "<div>\n",
       "<style scoped>\n",
       "    .dataframe tbody tr th:only-of-type {\n",
       "        vertical-align: middle;\n",
       "    }\n",
       "\n",
       "    .dataframe tbody tr th {\n",
       "        vertical-align: top;\n",
       "    }\n",
       "\n",
       "    .dataframe thead th {\n",
       "        text-align: right;\n",
       "    }\n",
       "</style>\n",
       "<table border=\"1\" class=\"dataframe\">\n",
       "  <thead>\n",
       "    <tr style=\"text-align: right;\">\n",
       "      <th></th>\n",
       "      <th>model</th>\n",
       "      <th>training_best_score</th>\n",
       "      <th>test_best_score</th>\n",
       "      <th>best_params</th>\n",
       "    </tr>\n",
       "  </thead>\n",
       "  <tbody>\n",
       "    <tr>\n",
       "      <th>0</th>\n",
       "      <td>RandomForest</td>\n",
       "      <td>0.792116</td>\n",
       "      <td>0.826816</td>\n",
       "      <td>{'classifier__max_depth': 85, 'classifier__max_features': 'sqrt', 'classifier__n_estimators': 90, 'classifier__random_state': 42}</td>\n",
       "    </tr>\n",
       "    <tr>\n",
       "      <th>1</th>\n",
       "      <td>DecisionTree</td>\n",
       "      <td>0.740855</td>\n",
       "      <td>0.731844</td>\n",
       "      <td>{'classifier__criterion': 'entropy', 'classifier__max_depth': None, 'classifier__max_features': None, 'classifier__random_state': 42, 'classifier__splitter': 'best'}</td>\n",
       "    </tr>\n",
       "  </tbody>\n",
       "</table>\n",
       "</div>"
      ],
      "text/plain": [
       "          model  training_best_score  test_best_score                                                                                                                                                            best_params\n",
       "0  RandomForest             0.792116         0.826816                                      {'classifier__max_depth': 85, 'classifier__max_features': 'sqrt', 'classifier__n_estimators': 90, 'classifier__random_state': 42}\n",
       "1  DecisionTree             0.740855         0.731844  {'classifier__criterion': 'entropy', 'classifier__max_depth': None, 'classifier__max_features': None, 'classifier__random_state': 42, 'classifier__splitter': 'best'}"
      ]
     },
     "execution_count": 28,
     "metadata": {},
     "output_type": "execute_result"
    }
   ],
   "source": [
    "pd.set_option(\"display.max_columns\", None) # show all cols\n",
    "pd.set_option('display.max_colwidth', None) # show full width of showing cols\n",
    "pd.set_option(\"display.expand_frame_repr\", False) # print cols side by side as it's supposed to be\n",
    "pd.DataFrame(scores)\n"
   ]
  },
  {
   "cell_type": "code",
   "execution_count": 56,
   "metadata": {},
   "outputs": [
    {
     "data": {
      "text/plain": [
       "<AxesSubplot:xlabel='model'>"
      ]
     },
     "execution_count": 56,
     "metadata": {},
     "output_type": "execute_result"
    },
    {
     "data": {
      "image/jpeg": "[encoded data removed]",
      "text/plain": [
       "<Figure size 720x576 with 1 Axes>"
      ]
     },
     "metadata": {
      "needs_background": "light"
     },
     "output_type": "display_data"
    }
   ],
   "source": [
    "pd.DataFrame(scores).plot(x=\"model\", y=[\"training_best_score\", \"test_best_score\"], kind=\"bar\", figsize=(10, 8))"
   ]
  },
  {
   "cell_type": "code",
   "execution_count": 57,
   "metadata": {},
   "outputs": [
    {
     "data": {
      "text/html": [
       "<div>\n",
       "<style scoped>\n",
       "    .dataframe tbody tr th:only-of-type {\n",
       "        vertical-align: middle;\n",
       "    }\n",
       "\n",
       "    .dataframe tbody tr th {\n",
       "        vertical-align: top;\n",
       "    }\n",
       "\n",
       "    .dataframe thead th {\n",
       "        text-align: right;\n",
       "    }\n",
       "</style>\n",
       "<table border=\"1\" class=\"dataframe\">\n",
       "  <thead>\n",
       "    <tr style=\"text-align: right;\">\n",
       "      <th></th>\n",
       "      <th>mean_fit_time</th>\n",
       "      <th>std_fit_time</th>\n",
       "      <th>mean_score_time</th>\n",
       "      <th>std_score_time</th>\n",
       "      <th>param_classifier__max_depth</th>\n",
       "      <th>param_classifier__max_features</th>\n",
       "      <th>param_classifier__n_estimators</th>\n",
       "      <th>param_classifier__random_state</th>\n",
       "      <th>params</th>\n",
       "      <th>split0_test_score</th>\n",
       "      <th>...</th>\n",
       "      <th>split3_test_score</th>\n",
       "      <th>split4_test_score</th>\n",
       "      <th>split5_test_score</th>\n",
       "      <th>split6_test_score</th>\n",
       "      <th>split7_test_score</th>\n",
       "      <th>split8_test_score</th>\n",
       "      <th>split9_test_score</th>\n",
       "      <th>mean_test_score</th>\n",
       "      <th>std_test_score</th>\n",
       "      <th>rank_test_score</th>\n",
       "    </tr>\n",
       "  </thead>\n",
       "  <tbody>\n",
       "    <tr>\n",
       "      <th>0</th>\n",
       "      <td>0.208997</td>\n",
       "      <td>0.028888</td>\n",
       "      <td>0.020902</td>\n",
       "      <td>0.003240</td>\n",
       "      <td>85</td>\n",
       "      <td>sqrt</td>\n",
       "      <td>60</td>\n",
       "      <td>42</td>\n",
       "      <td>{'classifier__max_depth': 85, 'classifier__max...</td>\n",
       "      <td>0.853147</td>\n",
       "      <td>...</td>\n",
       "      <td>0.774648</td>\n",
       "      <td>0.816901</td>\n",
       "      <td>0.804196</td>\n",
       "      <td>0.748252</td>\n",
       "      <td>0.767606</td>\n",
       "      <td>0.795775</td>\n",
       "      <td>0.774648</td>\n",
       "      <td>0.789299</td>\n",
       "      <td>0.028563</td>\n",
       "      <td>3</td>\n",
       "    </tr>\n",
       "    <tr>\n",
       "      <th>1</th>\n",
       "      <td>0.266900</td>\n",
       "      <td>0.021876</td>\n",
       "      <td>0.019300</td>\n",
       "      <td>0.002235</td>\n",
       "      <td>85</td>\n",
       "      <td>sqrt</td>\n",
       "      <td>80</td>\n",
       "      <td>42</td>\n",
       "      <td>{'classifier__max_depth': 85, 'classifier__max...</td>\n",
       "      <td>0.860140</td>\n",
       "      <td>...</td>\n",
       "      <td>0.753521</td>\n",
       "      <td>0.823944</td>\n",
       "      <td>0.804196</td>\n",
       "      <td>0.769231</td>\n",
       "      <td>0.774648</td>\n",
       "      <td>0.788732</td>\n",
       "      <td>0.774648</td>\n",
       "      <td>0.791397</td>\n",
       "      <td>0.029332</td>\n",
       "      <td>2</td>\n",
       "    </tr>\n",
       "    <tr>\n",
       "      <th>2</th>\n",
       "      <td>0.288898</td>\n",
       "      <td>0.029934</td>\n",
       "      <td>0.025804</td>\n",
       "      <td>0.009366</td>\n",
       "      <td>85</td>\n",
       "      <td>sqrt</td>\n",
       "      <td>90</td>\n",
       "      <td>42</td>\n",
       "      <td>{'classifier__max_depth': 85, 'classifier__max...</td>\n",
       "      <td>0.860140</td>\n",
       "      <td>...</td>\n",
       "      <td>0.767606</td>\n",
       "      <td>0.823944</td>\n",
       "      <td>0.797203</td>\n",
       "      <td>0.755245</td>\n",
       "      <td>0.788732</td>\n",
       "      <td>0.788732</td>\n",
       "      <td>0.781690</td>\n",
       "      <td>0.792116</td>\n",
       "      <td>0.028535</td>\n",
       "      <td>1</td>\n",
       "    </tr>\n",
       "  </tbody>\n",
       "</table>\n",
       "<p>3 rows × 22 columns</p>\n",
       "</div>"
      ],
      "text/plain": [
       "   mean_fit_time  std_fit_time  mean_score_time  std_score_time  \\\n",
       "0       0.208997      0.028888         0.020902        0.003240   \n",
       "1       0.266900      0.021876         0.019300        0.002235   \n",
       "2       0.288898      0.029934         0.025804        0.009366   \n",
       "\n",
       "  param_classifier__max_depth param_classifier__max_features  \\\n",
       "0                          85                           sqrt   \n",
       "1                          85                           sqrt   \n",
       "2                          85                           sqrt   \n",
       "\n",
       "  param_classifier__n_estimators param_classifier__random_state  \\\n",
       "0                             60                             42   \n",
       "1                             80                             42   \n",
       "2                             90                             42   \n",
       "\n",
       "                                              params  split0_test_score  ...  \\\n",
       "0  {'classifier__max_depth': 85, 'classifier__max...           0.853147  ...   \n",
       "1  {'classifier__max_depth': 85, 'classifier__max...           0.860140  ...   \n",
       "2  {'classifier__max_depth': 85, 'classifier__max...           0.860140  ...   \n",
       "\n",
       "   split3_test_score  split4_test_score  split5_test_score  split6_test_score  \\\n",
       "0           0.774648           0.816901           0.804196           0.748252   \n",
       "1           0.753521           0.823944           0.804196           0.769231   \n",
       "2           0.767606           0.823944           0.797203           0.755245   \n",
       "\n",
       "   split7_test_score  split8_test_score  split9_test_score  mean_test_score  \\\n",
       "0           0.767606           0.795775           0.774648         0.789299   \n",
       "1           0.774648           0.788732           0.774648         0.791397   \n",
       "2           0.788732           0.788732           0.781690         0.792116   \n",
       "\n",
       "   std_test_score  rank_test_score  \n",
       "0        0.028563                3  \n",
       "1        0.029332                2  \n",
       "2        0.028535                1  \n",
       "\n",
       "[3 rows x 22 columns]"
      ]
     },
     "execution_count": 57,
     "metadata": {},
     "output_type": "execute_result"
    }
   ],
   "source": [
    "pd.DataFrame(best_model.cv_results_)"
   ]
  },
  {
   "cell_type": "code",
   "execution_count": 59,
   "metadata": {},
   "outputs": [
    {
     "data": {
      "text/plain": [
       "<AxesSubplot:xlabel='param_classifier__n_estimators', ylabel='mean_test_score'>"
      ]
     },
     "execution_count": 59,
     "metadata": {},
     "output_type": "execute_result"
    },
    {
     "data": {
      "image/jpeg": "[encoded data removed]",
      "text/plain": [
       "<Figure size 432x288 with 1 Axes>"
      ]
     },
     "metadata": {
      "needs_background": "light"
     },
     "output_type": "display_data"
    }
   ],
   "source": [
    "nesm = pd.DataFrame(best_model.cv_results_)[['param_classifier__n_estimators','mean_test_score']]\n",
    "sns.lineplot(x='param_classifier__n_estimators', y='mean_test_score', data=nesm)"
   ]
  },
  {
   "cell_type": "markdown",
   "metadata": {},
   "source": [
    "- [https://scikit-learn.org/stable/tutorial/statistical_inference/putting_together.html](https://scikit-learn.org/stable/tutorial/statistical_inference/putting_together.html)\n",
    "- [https://towardsdatascience.com/machine-learning-pipelines-with-scikit-learn](https://towardsdatascience.com/machine-learning-pipelines-with-scikit-learn-d43c32a6aa52)\n",
    "- [https://machinelearninghd.com/gridsearchcv-hyperparameter-tuning-sckit-learn-regression-classification/](https://machinelearninghd.com/gridsearchcv-hyperparameter-tuning-sckit-learn-regression-classification/)\n",
    "- [https://machinelearninghd.com/gridsearchcv-classification-hyper-parameter-tuning/](https://machinelearninghd.com/gridsearchcv-classification-hyper-parameter-tuning/\t)\n",
    "- [https://towardsdatascience.com/how-to-tune-multiple-ml-models-with-gridsearchcv-at-once](https://towardsdatascience.com/how-to-tune-multiple-ml-models-with-gridsearchcv-at-once-9fcebfcc6c23)\n",
    "- [https://machinelearninghd.com/sklearn-svm-starter-guide/](https://machinelearninghd.com/sklearn-svm-starter-guide/)"
   ]
  },
  {
   "cell_type": "markdown",
   "metadata": {},
   "source": [
    "## Resource"
   ]
  }
 ],
 "metadata": {
  "kernelspec": {
   "display_name": "Python 3.9.7 ('base')",
   "language": "python",
   "name": "python3"
  },
  "language_info": {
   "codemirror_mode": {
    "name": "ipython",
    "version": 3
   },
   "file_extension": ".py",
   "mimetype": "text/x-python",
   "name": "python",
   "nbconvert_exporter": "python",
   "pygments_lexer": "ipython3",
   "version": "3.9.12"
  },
  "orig_nbformat": 2,
  "vscode": {
   "interpreter": {
    "hash": "13a64c48d63ab7fa89dd239a6172cf842d756bd82fcb4ba948a9115b41dc50a1"
   }
  }
 },
 "nbformat": 4,
 "nbformat_minor": 2
}
